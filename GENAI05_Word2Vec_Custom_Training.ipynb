{
  "nbformat": 4,
  "nbformat_minor": 0,
  "metadata": {
    "colab": {
      "provenance": [],
      "authorship_tag": "ABX9TyNgrbr+ncMvLYxBwfFs+4p6",
      "include_colab_link": true
    },
    "kernelspec": {
      "name": "python3",
      "display_name": "Python 3"
    },
    "language_info": {
      "name": "python"
    }
  },
  "cells": [
    {
      "cell_type": "markdown",
      "metadata": {
        "id": "view-in-github",
        "colab_type": "text"
      },
      "source": [
        "<a href=\"https://colab.research.google.com/github/pradytpk/genai/blob/master/GENAI05_Word2Vec_Custom_Training.ipynb\" target=\"_parent\"><img src=\"https://colab.research.google.com/assets/colab-badge.svg\" alt=\"Open In Colab\"/></a>"
      ]
    },
    {
      "cell_type": "markdown",
      "source": [
        "# Custom training for WordtoVector"
      ],
      "metadata": {
        "id": "UOWzvESJjv_W"
      }
    },
    {
      "cell_type": "markdown",
      "source": [
        "Data\n",
        "https://www.kaggle.com/datasets/khulasasndh/game-of-thrones-books"
      ],
      "metadata": {
        "id": "u3ULQimBj6Fh"
      }
    },
    {
      "cell_type": "code",
      "source": [
        "import pandas as pd\n",
        "import numpy as np\n",
        "import os\n",
        "import gensim\n",
        "import nltk"
      ],
      "metadata": {
        "id": "SmNIdZxTj5F_"
      },
      "execution_count": 3,
      "outputs": []
    },
    {
      "cell_type": "code",
      "execution_count": 14,
      "metadata": {
        "id": "jx9YsItRjiXU",
        "outputId": "0e8d28e7-c22f-49b4-cb40-2b3b97aa58c0",
        "colab": {
          "base_uri": "https://localhost:8080/"
        }
      },
      "outputs": [
        {
          "output_type": "stream",
          "name": "stderr",
          "text": [
            "[nltk_data] Downloading package punkt to /root/nltk_data...\n",
            "[nltk_data]   Unzipping tokenizers/punkt.zip.\n"
          ]
        },
        {
          "output_type": "execute_result",
          "data": {
            "text/plain": [
              "True"
            ]
          },
          "metadata": {},
          "execution_count": 14
        }
      ],
      "source": [
        "nltk.download('punkt')"
      ]
    },
    {
      "cell_type": "code",
      "source": [
        "from nltk import sent_tokenize\n",
        "from gensim.utils import simple_preprocess"
      ],
      "metadata": {
        "id": "JGQNg_S2lnXc"
      },
      "execution_count": 1,
      "outputs": []
    },
    {
      "cell_type": "code",
      "source": [
        "for file in os.listdir(\"/content/data\"):\n",
        "  print(file)"
      ],
      "metadata": {
        "id": "3VguI3HfmYLO",
        "outputId": "2a2e602f-c5b9-4356-81a6-b857e19e1824",
        "colab": {
          "base_uri": "https://localhost:8080/"
        }
      },
      "execution_count": 5,
      "outputs": [
        {
          "output_type": "stream",
          "name": "stdout",
          "text": [
            "005ssb.txt\n",
            "004ssb.txt\n",
            "001ssb.txt\n",
            "002ssb.txt\n",
            "003ssb.txt\n"
          ]
        }
      ]
    },
    {
      "cell_type": "code",
      "source": [
        "f=open(\"/content/data/001ssb.txt\",encoding='unicode_escape')"
      ],
      "metadata": {
        "id": "FkVu39zvmgvr"
      },
      "execution_count": 18,
      "outputs": []
    },
    {
      "cell_type": "code",
      "source": [
        "corpus=f.read()"
      ],
      "metadata": {
        "id": "u4vwCMx9mzRY"
      },
      "execution_count": 19,
      "outputs": []
    },
    {
      "cell_type": "code",
      "source": [
        "# Convert the data into tokens"
      ],
      "metadata": {
        "id": "FSGYj9zMm7k4"
      },
      "execution_count": 20,
      "outputs": []
    },
    {
      "cell_type": "code",
      "source": [
        "raw_sentences=sent_tokenize(corpus)"
      ],
      "metadata": {
        "id": "pwag7GGfnIRw"
      },
      "execution_count": 22,
      "outputs": []
    },
    {
      "cell_type": "code",
      "source": [
        "processed_sentences = []\n",
        "for sentence in raw_sentences:\n",
        "    processed_sentences.append(simple_preprocess(sentence))"
      ],
      "metadata": {
        "id": "98ChdrTmnNfA"
      },
      "execution_count": 24,
      "outputs": []
    },
    {
      "cell_type": "code",
      "source": [
        "processed_sentences"
      ],
      "metadata": {
        "id": "dayLDn1UnupN"
      },
      "execution_count": null,
      "outputs": []
    },
    {
      "cell_type": "code",
      "source": [
        "preprocessed_sentences = []\n",
        "for filename in os.listdir(\"/content/data\"):\n",
        "  file_path=os.path.join(\"/content/data/\",filename)\n",
        "  with open(file_path,encoding='unicode_escape') as f:\n",
        "    corpus = f.read()\n",
        "  raw_sentences=sent_tokenize(corpus)\n",
        "  for sentence in raw_sentences:\n",
        "    preprocessed_sentences.append(simple_preprocess(sentence))"
      ],
      "metadata": {
        "id": "-mhZg1CWn6PT"
      },
      "execution_count": 30,
      "outputs": []
    },
    {
      "cell_type": "code",
      "source": [
        "preprocessed_sentences[0]"
      ],
      "metadata": {
        "id": "1xYhNFSDpC7S",
        "outputId": "d3c34b4c-5276-4f92-96cb-bfe05a5f1818",
        "colab": {
          "base_uri": "https://localhost:8080/"
        }
      },
      "execution_count": 33,
      "outputs": [
        {
          "output_type": "execute_result",
          "data": {
            "text/plain": [
              "['george',\n",
              " 'martin',\n",
              " 'dance',\n",
              " 'with',\n",
              " 'dragons',\n",
              " 'book',\n",
              " 'five',\n",
              " 'of',\n",
              " 'song',\n",
              " 'of',\n",
              " 'ice',\n",
              " 'and',\n",
              " 'fire',\n",
              " 'dedication',\n",
              " 'this',\n",
              " 'one',\n",
              " 'is',\n",
              " 'for',\n",
              " 'my',\n",
              " 'fans',\n",
              " 'for',\n",
              " 'lodey',\n",
              " 'trebla',\n",
              " 'stego',\n",
              " 'pod',\n",
              " 'caress',\n",
              " 'yags',\n",
              " 'ray',\n",
              " 'and',\n",
              " 'mr',\n",
              " 'kate',\n",
              " 'chataya',\n",
              " 'mormont',\n",
              " 'mich',\n",
              " 'jamie',\n",
              " 'vanessa',\n",
              " 'ro',\n",
              " 'for',\n",
              " 'stubby',\n",
              " 'louise',\n",
              " 'agravaine',\n",
              " 'wert',\n",
              " 'malt',\n",
              " 'jo',\n",
              " 'mouse',\n",
              " 'telisiane',\n",
              " 'blackfyre',\n",
              " 'bronn',\n",
              " 'stone',\n",
              " 'coyote',\n",
              " 'daughter',\n",
              " 'and',\n",
              " 'the',\n",
              " 'rest',\n",
              " 'of',\n",
              " 'the',\n",
              " 'madmen',\n",
              " 'and',\n",
              " 'wild',\n",
              " 'women',\n",
              " 'of',\n",
              " 'the',\n",
              " 'brotherhood',\n",
              " 'without',\n",
              " 'banners',\n",
              " 'for',\n",
              " 'my',\n",
              " 'website',\n",
              " 'wizards',\n",
              " 'elio',\n",
              " 'and',\n",
              " 'linda',\n",
              " 'lords',\n",
              " 'of',\n",
              " 'westeros',\n",
              " 'winter',\n",
              " 'and',\n",
              " 'fabio',\n",
              " 'of',\n",
              " 'wic',\n",
              " 'and',\n",
              " 'gibbs',\n",
              " 'of',\n",
              " 'dragonstone',\n",
              " 'who',\n",
              " 'started',\n",
              " 'it',\n",
              " 'all',\n",
              " 'for',\n",
              " 'men',\n",
              " 'and',\n",
              " 'women',\n",
              " 'of',\n",
              " 'asshai',\n",
              " 'in',\n",
              " 'spain',\n",
              " 'who',\n",
              " 'sang',\n",
              " 'to',\n",
              " 'us',\n",
              " 'of',\n",
              " 'bear',\n",
              " 'and',\n",
              " 'maiden',\n",
              " 'fair',\n",
              " 'and',\n",
              " 'the',\n",
              " 'fabulous',\n",
              " 'fans',\n",
              " 'of',\n",
              " 'italy',\n",
              " 'who',\n",
              " 'gave',\n",
              " 'me',\n",
              " 'so',\n",
              " 'much',\n",
              " 'wine',\n",
              " 'for',\n",
              " 'my',\n",
              " 'readers',\n",
              " 'in',\n",
              " 'finland',\n",
              " 'germany',\n",
              " 'brazil',\n",
              " 'portugal',\n",
              " 'france',\n",
              " 'and',\n",
              " 'the',\n",
              " 'netherlands',\n",
              " 'and',\n",
              " 'all',\n",
              " 'the',\n",
              " 'other',\n",
              " 'distant',\n",
              " 'lands',\n",
              " 'where',\n",
              " 'you',\n",
              " 've',\n",
              " 'been',\n",
              " 'waiting',\n",
              " 'for',\n",
              " 'this',\n",
              " 'dance',\n",
              " 'and',\n",
              " 'for',\n",
              " 'all',\n",
              " 'the',\n",
              " 'friends',\n",
              " 'and',\n",
              " 'fans',\n",
              " 'have',\n",
              " 'yet',\n",
              " 'to',\n",
              " 'meet',\n",
              " 'thanks',\n",
              " 'for',\n",
              " 'your',\n",
              " 'patience',\n",
              " 'contents',\n",
              " 'dedication',\n",
              " 'cavil',\n",
              " 'on',\n",
              " 'chronology',\n",
              " 'prologue',\n",
              " 'tyrion',\n",
              " 'daenerys',\n",
              " 'jon',\n",
              " 'bran',\n",
              " 'tyrion',\n",
              " 'the',\n",
              " 'merchant',\n",
              " 'man',\n",
              " 'jon',\n",
              " 'tyrion',\n",
              " 'davos',\n",
              " 'jon',\n",
              " 'daenerys',\n",
              " 'reek',\n",
              " 'bran',\n",
              " 'tyrion',\n",
              " 'davos',\n",
              " 'daenerys',\n",
              " 'jon',\n",
              " 'tyrion',\n",
              " 'davos',\n",
              " 'reek',\n",
              " 'jon',\n",
              " 'tyrion',\n",
              " 'daenerys',\n",
              " 'the',\n",
              " 'lost',\n",
              " 'lord',\n",
              " 'the',\n",
              " 'windblown',\n",
              " 'the',\n",
              " 'wayward',\n",
              " 'bride',\n",
              " 'tyrion',\n",
              " 'jon',\n",
              " 'davos',\n",
              " 'daenerys',\n",
              " 'melisandre',\n",
              " 'reek',\n",
              " 'tyrion',\n",
              " 'bran',\n",
              " 'jon',\n",
              " 'daenerys',\n",
              " 'the',\n",
              " 'prince',\n",
              " 'of',\n",
              " 'winterfell',\n",
              " 'the',\n",
              " 'watcher',\n",
              " 'jon',\n",
              " 'tyrion',\n",
              " 'the',\n",
              " 'turncloak',\n",
              " 'the',\n",
              " 'king',\n",
              " 'prize',\n",
              " 'daenerys',\n",
              " 'jon',\n",
              " 'the',\n",
              " 'blind',\n",
              " 'girl',\n",
              " 'ghost',\n",
              " 'in',\n",
              " 'winterfell',\n",
              " 'tyrion',\n",
              " 'jaime',\n",
              " 'jon',\n",
              " 'daenerys',\n",
              " 'theon',\n",
              " 'daenerys',\n",
              " 'jon',\n",
              " 'cersei',\n",
              " 'the',\n",
              " 'queensguard',\n",
              " 'the',\n",
              " 'iron',\n",
              " 'suitor',\n",
              " 'tyrion',\n",
              " 'jon',\n",
              " 'the',\n",
              " 'discarded',\n",
              " 'knight',\n",
              " 'the',\n",
              " 'spurned',\n",
              " 'suitor',\n",
              " 'the',\n",
              " 'griffin',\n",
              " 'reborn',\n",
              " 'the',\n",
              " 'sacrifice',\n",
              " 'victarion',\n",
              " 'the',\n",
              " 'ugly',\n",
              " 'little',\n",
              " 'girl',\n",
              " 'cersei',\n",
              " 'tyrion',\n",
              " 'the',\n",
              " 'kingbreaker',\n",
              " 'the',\n",
              " 'dragontamer',\n",
              " 'jon',\n",
              " 'the',\n",
              " 'queen',\n",
              " 'hand',\n",
              " 'daenerys',\n",
              " 'epilogue',\n",
              " 'westeros',\n",
              " 'the',\n",
              " 'boy',\n",
              " 'king',\n",
              " 'the',\n",
              " 'king',\n",
              " 'at',\n",
              " 'the',\n",
              " 'wall',\n",
              " 'king',\n",
              " 'of',\n",
              " 'the',\n",
              " 'isles',\n",
              " 'and',\n",
              " 'the',\n",
              " 'north',\n",
              " 'other',\n",
              " 'houses',\n",
              " 'great',\n",
              " 'and',\n",
              " 'small',\n",
              " 'house',\n",
              " 'arryn',\n",
              " 'house',\n",
              " 'baratheon',\n",
              " 'house',\n",
              " 'frey',\n",
              " 'house',\n",
              " 'lannister',\n",
              " 'house',\n",
              " 'martell',\n",
              " 'house',\n",
              " 'stark',\n",
              " 'house',\n",
              " 'tully',\n",
              " 'house',\n",
              " 'tyrell',\n",
              " 'the',\n",
              " 'sworn',\n",
              " 'brothers',\n",
              " 'of',\n",
              " 'the',\n",
              " 'night',\n",
              " 'watch',\n",
              " 'the',\n",
              " 'wildlings',\n",
              " 'or',\n",
              " 'the',\n",
              " 'free',\n",
              " 'folk',\n",
              " 'beyond',\n",
              " 'the',\n",
              " 'wall',\n",
              " 'essos',\n",
              " 'beyond',\n",
              " 'the',\n",
              " 'narrow',\n",
              " 'sea',\n",
              " 'in',\n",
              " 'braavos',\n",
              " 'in',\n",
              " 'old',\n",
              " 'volantis',\n",
              " 'on',\n",
              " 'slaver',\n",
              " 'bay',\n",
              " 'the',\n",
              " 'queen',\n",
              " 'across',\n",
              " 'the',\n",
              " 'water',\n",
              " 'the',\n",
              " 'sellswords',\n",
              " 'men',\n",
              " 'and',\n",
              " 'women',\n",
              " 'of',\n",
              " 'the',\n",
              " 'free',\n",
              " 'companies',\n",
              " 'acknowledgments',\n",
              " 'about',\n",
              " 'the',\n",
              " 'author',\n",
              " 'about',\n",
              " 'the',\n",
              " 'type',\n",
              " 'by',\n",
              " 'george',\n",
              " 'martin',\n",
              " 'copyright',\n",
              " 'cavil',\n",
              " 'on',\n",
              " 'chronology',\n",
              " 'it',\n",
              " 'has',\n",
              " 'been',\n",
              " 'while',\n",
              " 'between',\n",
              " 'books',\n",
              " 'know']"
            ]
          },
          "metadata": {},
          "execution_count": 33
        }
      ]
    },
    {
      "cell_type": "code",
      "source": [
        "len(preprocessed_sentences)"
      ],
      "metadata": {
        "id": "wA88PlgsptxC",
        "outputId": "51d36606-22d8-4064-cfc7-5459f93037c5",
        "colab": {
          "base_uri": "https://localhost:8080/"
        }
      },
      "execution_count": 32,
      "outputs": [
        {
          "output_type": "execute_result",
          "data": {
            "text/plain": [
              "145020"
            ]
          },
          "metadata": {},
          "execution_count": 32
        }
      ]
    },
    {
      "cell_type": "code",
      "source": [],
      "metadata": {
        "id": "lQM2N0Rup5J5"
      },
      "execution_count": null,
      "outputs": []
    }
  ]
}