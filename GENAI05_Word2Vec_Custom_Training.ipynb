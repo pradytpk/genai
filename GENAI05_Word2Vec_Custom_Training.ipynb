{
  "nbformat": 4,
  "nbformat_minor": 0,
  "metadata": {
    "colab": {
      "provenance": [],
      "authorship_tag": "ABX9TyMTO/C2nGrX3uCiGw6tmi8A"
    },
    "kernelspec": {
      "name": "python3",
      "display_name": "Python 3"
    },
    "language_info": {
      "name": "python"
    }
  },
  "cells": [
    {
      "cell_type": "markdown",
      "source": [
        "# Custom training for WordtoVector"
      ],
      "metadata": {
        "id": "UOWzvESJjv_W"
      }
    },
    {
      "cell_type": "markdown",
      "source": [
        "Data\n",
        "https://www.kaggle.com/datasets/khulasasndh/game-of-thrones-books"
      ],
      "metadata": {
        "id": "u3ULQimBj6Fh"
      }
    },
    {
      "cell_type": "markdown",
      "source": [
        "## Static word embedding"
      ],
      "metadata": {
        "id": "3ej4yT3u8B4c"
      }
    },
    {
      "cell_type": "code",
      "source": [
        "import pandas as pd\n",
        "import numpy as np\n",
        "import os\n",
        "import gensim\n",
        "import nltk"
      ],
      "metadata": {
        "id": "SmNIdZxTj5F_"
      },
      "execution_count": 3,
      "outputs": []
    },
    {
      "cell_type": "code",
      "execution_count": 14,
      "metadata": {
        "id": "jx9YsItRjiXU",
        "colab": {
          "base_uri": "https://localhost:8080/"
        },
        "outputId": "0e8d28e7-c22f-49b4-cb40-2b3b97aa58c0"
      },
      "outputs": [
        {
          "output_type": "stream",
          "name": "stderr",
          "text": [
            "[nltk_data] Downloading package punkt to /root/nltk_data...\n",
            "[nltk_data]   Unzipping tokenizers/punkt.zip.\n"
          ]
        },
        {
          "output_type": "execute_result",
          "data": {
            "text/plain": [
              "True"
            ]
          },
          "metadata": {},
          "execution_count": 14
        }
      ],
      "source": [
        "nltk.download('punkt')"
      ]
    },
    {
      "cell_type": "code",
      "source": [
        "from nltk import sent_tokenize\n",
        "from gensim.utils import simple_preprocess"
      ],
      "metadata": {
        "id": "JGQNg_S2lnXc"
      },
      "execution_count": 1,
      "outputs": []
    },
    {
      "cell_type": "code",
      "source": [
        "for file in os.listdir(\"/content/data\"):\n",
        "  print(file)"
      ],
      "metadata": {
        "colab": {
          "base_uri": "https://localhost:8080/"
        },
        "id": "3VguI3HfmYLO",
        "outputId": "2a2e602f-c5b9-4356-81a6-b857e19e1824"
      },
      "execution_count": 5,
      "outputs": [
        {
          "output_type": "stream",
          "name": "stdout",
          "text": [
            "005ssb.txt\n",
            "004ssb.txt\n",
            "001ssb.txt\n",
            "002ssb.txt\n",
            "003ssb.txt\n"
          ]
        }
      ]
    },
    {
      "cell_type": "code",
      "source": [
        "f=open(\"/content/data/001ssb.txt\",encoding='unicode_escape')"
      ],
      "metadata": {
        "id": "FkVu39zvmgvr"
      },
      "execution_count": 18,
      "outputs": []
    },
    {
      "cell_type": "code",
      "source": [
        "corpus=f.read()"
      ],
      "metadata": {
        "id": "u4vwCMx9mzRY"
      },
      "execution_count": 19,
      "outputs": []
    },
    {
      "cell_type": "code",
      "source": [
        "# Convert the data into tokens"
      ],
      "metadata": {
        "id": "FSGYj9zMm7k4"
      },
      "execution_count": 20,
      "outputs": []
    },
    {
      "cell_type": "code",
      "source": [
        "raw_sentences=sent_tokenize(corpus)"
      ],
      "metadata": {
        "id": "pwag7GGfnIRw"
      },
      "execution_count": 22,
      "outputs": []
    },
    {
      "cell_type": "code",
      "source": [
        "processed_sentences = []\n",
        "for sentence in raw_sentences:\n",
        "    processed_sentences.append(simple_preprocess(sentence))"
      ],
      "metadata": {
        "id": "98ChdrTmnNfA"
      },
      "execution_count": 24,
      "outputs": []
    },
    {
      "cell_type": "code",
      "source": [
        "processed_sentences"
      ],
      "metadata": {
        "id": "dayLDn1UnupN"
      },
      "execution_count": null,
      "outputs": []
    },
    {
      "cell_type": "code",
      "source": [
        "preprocessed_sentences = []\n",
        "for filename in os.listdir(\"/content/data\"):\n",
        "  file_path=os.path.join(\"/content/data/\",filename)\n",
        "  with open(file_path,encoding='unicode_escape') as f:\n",
        "    corpus = f.read()\n",
        "  raw_sentences=sent_tokenize(corpus)\n",
        "  for sentence in raw_sentences:\n",
        "    preprocessed_sentences.append(simple_preprocess(sentence))"
      ],
      "metadata": {
        "id": "-mhZg1CWn6PT"
      },
      "execution_count": 30,
      "outputs": []
    },
    {
      "cell_type": "code",
      "source": [
        "preprocessed_sentences[0]"
      ],
      "metadata": {
        "colab": {
          "base_uri": "https://localhost:8080/"
        },
        "id": "1xYhNFSDpC7S",
        "outputId": "d3c34b4c-5276-4f92-96cb-bfe05a5f1818"
      },
      "execution_count": 33,
      "outputs": [
        {
          "output_type": "execute_result",
          "data": {
            "text/plain": [
              "['george',\n",
              " 'martin',\n",
              " 'dance',\n",
              " 'with',\n",
              " 'dragons',\n",
              " 'book',\n",
              " 'five',\n",
              " 'of',\n",
              " 'song',\n",
              " 'of',\n",
              " 'ice',\n",
              " 'and',\n",
              " 'fire',\n",
              " 'dedication',\n",
              " 'this',\n",
              " 'one',\n",
              " 'is',\n",
              " 'for',\n",
              " 'my',\n",
              " 'fans',\n",
              " 'for',\n",
              " 'lodey',\n",
              " 'trebla',\n",
              " 'stego',\n",
              " 'pod',\n",
              " 'caress',\n",
              " 'yags',\n",
              " 'ray',\n",
              " 'and',\n",
              " 'mr',\n",
              " 'kate',\n",
              " 'chataya',\n",
              " 'mormont',\n",
              " 'mich',\n",
              " 'jamie',\n",
              " 'vanessa',\n",
              " 'ro',\n",
              " 'for',\n",
              " 'stubby',\n",
              " 'louise',\n",
              " 'agravaine',\n",
              " 'wert',\n",
              " 'malt',\n",
              " 'jo',\n",
              " 'mouse',\n",
              " 'telisiane',\n",
              " 'blackfyre',\n",
              " 'bronn',\n",
              " 'stone',\n",
              " 'coyote',\n",
              " 'daughter',\n",
              " 'and',\n",
              " 'the',\n",
              " 'rest',\n",
              " 'of',\n",
              " 'the',\n",
              " 'madmen',\n",
              " 'and',\n",
              " 'wild',\n",
              " 'women',\n",
              " 'of',\n",
              " 'the',\n",
              " 'brotherhood',\n",
              " 'without',\n",
              " 'banners',\n",
              " 'for',\n",
              " 'my',\n",
              " 'website',\n",
              " 'wizards',\n",
              " 'elio',\n",
              " 'and',\n",
              " 'linda',\n",
              " 'lords',\n",
              " 'of',\n",
              " 'westeros',\n",
              " 'winter',\n",
              " 'and',\n",
              " 'fabio',\n",
              " 'of',\n",
              " 'wic',\n",
              " 'and',\n",
              " 'gibbs',\n",
              " 'of',\n",
              " 'dragonstone',\n",
              " 'who',\n",
              " 'started',\n",
              " 'it',\n",
              " 'all',\n",
              " 'for',\n",
              " 'men',\n",
              " 'and',\n",
              " 'women',\n",
              " 'of',\n",
              " 'asshai',\n",
              " 'in',\n",
              " 'spain',\n",
              " 'who',\n",
              " 'sang',\n",
              " 'to',\n",
              " 'us',\n",
              " 'of',\n",
              " 'bear',\n",
              " 'and',\n",
              " 'maiden',\n",
              " 'fair',\n",
              " 'and',\n",
              " 'the',\n",
              " 'fabulous',\n",
              " 'fans',\n",
              " 'of',\n",
              " 'italy',\n",
              " 'who',\n",
              " 'gave',\n",
              " 'me',\n",
              " 'so',\n",
              " 'much',\n",
              " 'wine',\n",
              " 'for',\n",
              " 'my',\n",
              " 'readers',\n",
              " 'in',\n",
              " 'finland',\n",
              " 'germany',\n",
              " 'brazil',\n",
              " 'portugal',\n",
              " 'france',\n",
              " 'and',\n",
              " 'the',\n",
              " 'netherlands',\n",
              " 'and',\n",
              " 'all',\n",
              " 'the',\n",
              " 'other',\n",
              " 'distant',\n",
              " 'lands',\n",
              " 'where',\n",
              " 'you',\n",
              " 've',\n",
              " 'been',\n",
              " 'waiting',\n",
              " 'for',\n",
              " 'this',\n",
              " 'dance',\n",
              " 'and',\n",
              " 'for',\n",
              " 'all',\n",
              " 'the',\n",
              " 'friends',\n",
              " 'and',\n",
              " 'fans',\n",
              " 'have',\n",
              " 'yet',\n",
              " 'to',\n",
              " 'meet',\n",
              " 'thanks',\n",
              " 'for',\n",
              " 'your',\n",
              " 'patience',\n",
              " 'contents',\n",
              " 'dedication',\n",
              " 'cavil',\n",
              " 'on',\n",
              " 'chronology',\n",
              " 'prologue',\n",
              " 'tyrion',\n",
              " 'daenerys',\n",
              " 'jon',\n",
              " 'bran',\n",
              " 'tyrion',\n",
              " 'the',\n",
              " 'merchant',\n",
              " 'man',\n",
              " 'jon',\n",
              " 'tyrion',\n",
              " 'davos',\n",
              " 'jon',\n",
              " 'daenerys',\n",
              " 'reek',\n",
              " 'bran',\n",
              " 'tyrion',\n",
              " 'davos',\n",
              " 'daenerys',\n",
              " 'jon',\n",
              " 'tyrion',\n",
              " 'davos',\n",
              " 'reek',\n",
              " 'jon',\n",
              " 'tyrion',\n",
              " 'daenerys',\n",
              " 'the',\n",
              " 'lost',\n",
              " 'lord',\n",
              " 'the',\n",
              " 'windblown',\n",
              " 'the',\n",
              " 'wayward',\n",
              " 'bride',\n",
              " 'tyrion',\n",
              " 'jon',\n",
              " 'davos',\n",
              " 'daenerys',\n",
              " 'melisandre',\n",
              " 'reek',\n",
              " 'tyrion',\n",
              " 'bran',\n",
              " 'jon',\n",
              " 'daenerys',\n",
              " 'the',\n",
              " 'prince',\n",
              " 'of',\n",
              " 'winterfell',\n",
              " 'the',\n",
              " 'watcher',\n",
              " 'jon',\n",
              " 'tyrion',\n",
              " 'the',\n",
              " 'turncloak',\n",
              " 'the',\n",
              " 'king',\n",
              " 'prize',\n",
              " 'daenerys',\n",
              " 'jon',\n",
              " 'the',\n",
              " 'blind',\n",
              " 'girl',\n",
              " 'ghost',\n",
              " 'in',\n",
              " 'winterfell',\n",
              " 'tyrion',\n",
              " 'jaime',\n",
              " 'jon',\n",
              " 'daenerys',\n",
              " 'theon',\n",
              " 'daenerys',\n",
              " 'jon',\n",
              " 'cersei',\n",
              " 'the',\n",
              " 'queensguard',\n",
              " 'the',\n",
              " 'iron',\n",
              " 'suitor',\n",
              " 'tyrion',\n",
              " 'jon',\n",
              " 'the',\n",
              " 'discarded',\n",
              " 'knight',\n",
              " 'the',\n",
              " 'spurned',\n",
              " 'suitor',\n",
              " 'the',\n",
              " 'griffin',\n",
              " 'reborn',\n",
              " 'the',\n",
              " 'sacrifice',\n",
              " 'victarion',\n",
              " 'the',\n",
              " 'ugly',\n",
              " 'little',\n",
              " 'girl',\n",
              " 'cersei',\n",
              " 'tyrion',\n",
              " 'the',\n",
              " 'kingbreaker',\n",
              " 'the',\n",
              " 'dragontamer',\n",
              " 'jon',\n",
              " 'the',\n",
              " 'queen',\n",
              " 'hand',\n",
              " 'daenerys',\n",
              " 'epilogue',\n",
              " 'westeros',\n",
              " 'the',\n",
              " 'boy',\n",
              " 'king',\n",
              " 'the',\n",
              " 'king',\n",
              " 'at',\n",
              " 'the',\n",
              " 'wall',\n",
              " 'king',\n",
              " 'of',\n",
              " 'the',\n",
              " 'isles',\n",
              " 'and',\n",
              " 'the',\n",
              " 'north',\n",
              " 'other',\n",
              " 'houses',\n",
              " 'great',\n",
              " 'and',\n",
              " 'small',\n",
              " 'house',\n",
              " 'arryn',\n",
              " 'house',\n",
              " 'baratheon',\n",
              " 'house',\n",
              " 'frey',\n",
              " 'house',\n",
              " 'lannister',\n",
              " 'house',\n",
              " 'martell',\n",
              " 'house',\n",
              " 'stark',\n",
              " 'house',\n",
              " 'tully',\n",
              " 'house',\n",
              " 'tyrell',\n",
              " 'the',\n",
              " 'sworn',\n",
              " 'brothers',\n",
              " 'of',\n",
              " 'the',\n",
              " 'night',\n",
              " 'watch',\n",
              " 'the',\n",
              " 'wildlings',\n",
              " 'or',\n",
              " 'the',\n",
              " 'free',\n",
              " 'folk',\n",
              " 'beyond',\n",
              " 'the',\n",
              " 'wall',\n",
              " 'essos',\n",
              " 'beyond',\n",
              " 'the',\n",
              " 'narrow',\n",
              " 'sea',\n",
              " 'in',\n",
              " 'braavos',\n",
              " 'in',\n",
              " 'old',\n",
              " 'volantis',\n",
              " 'on',\n",
              " 'slaver',\n",
              " 'bay',\n",
              " 'the',\n",
              " 'queen',\n",
              " 'across',\n",
              " 'the',\n",
              " 'water',\n",
              " 'the',\n",
              " 'sellswords',\n",
              " 'men',\n",
              " 'and',\n",
              " 'women',\n",
              " 'of',\n",
              " 'the',\n",
              " 'free',\n",
              " 'companies',\n",
              " 'acknowledgments',\n",
              " 'about',\n",
              " 'the',\n",
              " 'author',\n",
              " 'about',\n",
              " 'the',\n",
              " 'type',\n",
              " 'by',\n",
              " 'george',\n",
              " 'martin',\n",
              " 'copyright',\n",
              " 'cavil',\n",
              " 'on',\n",
              " 'chronology',\n",
              " 'it',\n",
              " 'has',\n",
              " 'been',\n",
              " 'while',\n",
              " 'between',\n",
              " 'books',\n",
              " 'know']"
            ]
          },
          "metadata": {},
          "execution_count": 33
        }
      ]
    },
    {
      "cell_type": "code",
      "source": [
        "len(preprocessed_sentences)"
      ],
      "metadata": {
        "colab": {
          "base_uri": "https://localhost:8080/"
        },
        "id": "wA88PlgsptxC",
        "outputId": "51d36606-22d8-4064-cfc7-5459f93037c5"
      },
      "execution_count": 32,
      "outputs": [
        {
          "output_type": "execute_result",
          "data": {
            "text/plain": [
              "145020"
            ]
          },
          "metadata": {},
          "execution_count": 32
        }
      ]
    },
    {
      "cell_type": "code",
      "source": [
        "model = gensim.models.Word2Vec(window=10,min_count=5,vector_size=150)"
      ],
      "metadata": {
        "id": "lQM2N0Rup5J5"
      },
      "execution_count": 42,
      "outputs": []
    },
    {
      "cell_type": "code",
      "source": [
        "model.build_vocab(preprocessed_sentences)"
      ],
      "metadata": {
        "id": "KeydXmgwx0-f"
      },
      "execution_count": 47,
      "outputs": []
    },
    {
      "cell_type": "code",
      "source": [
        "model.epochs"
      ],
      "metadata": {
        "colab": {
          "base_uri": "https://localhost:8080/"
        },
        "id": "kYb3D6_usMFs",
        "outputId": "2f3c2790-1be8-4f6f-f7b7-d4ed72bcd940"
      },
      "execution_count": 48,
      "outputs": [
        {
          "output_type": "execute_result",
          "data": {
            "text/plain": [
              "5"
            ]
          },
          "metadata": {},
          "execution_count": 48
        }
      ]
    },
    {
      "cell_type": "code",
      "source": [
        "model.corpus_total_words"
      ],
      "metadata": {
        "colab": {
          "base_uri": "https://localhost:8080/"
        },
        "id": "6DNxhsGawjfH",
        "outputId": "ce5df0f1-9413-48af-85cc-9740b0362817"
      },
      "execution_count": 49,
      "outputs": [
        {
          "output_type": "execute_result",
          "data": {
            "text/plain": [
              "1725638"
            ]
          },
          "metadata": {},
          "execution_count": 49
        }
      ]
    },
    {
      "cell_type": "code",
      "source": [
        "model.min_count"
      ],
      "metadata": {
        "colab": {
          "base_uri": "https://localhost:8080/"
        },
        "id": "bTHiRcvewp0A",
        "outputId": "a833de83-b8bd-4703-cc3c-b1403b2e8bb2"
      },
      "execution_count": 50,
      "outputs": [
        {
          "output_type": "execute_result",
          "data": {
            "text/plain": [
              "5"
            ]
          },
          "metadata": {},
          "execution_count": 50
        }
      ]
    },
    {
      "cell_type": "code",
      "source": [
        "model.train(preprocessed_sentences,total_examples=model.corpus_count,epochs=model.epochs)"
      ],
      "metadata": {
        "colab": {
          "base_uri": "https://localhost:8080/"
        },
        "id": "PrK8As8hxGqf",
        "outputId": "e0fbd217-a32a-453b-abf8-fad25b5ac9a5"
      },
      "execution_count": 51,
      "outputs": [
        {
          "output_type": "execute_result",
          "data": {
            "text/plain": [
              "(6484701, 8628190)"
            ]
          },
          "metadata": {},
          "execution_count": 51
        }
      ]
    },
    {
      "cell_type": "code",
      "source": [
        "model.wv.most_similar(\"king\")"
      ],
      "metadata": {
        "colab": {
          "base_uri": "https://localhost:8080/"
        },
        "id": "5BDknvHfx-VB",
        "outputId": "417765ae-9762-46f5-ea56-afa52b256cf7"
      },
      "execution_count": 52,
      "outputs": [
        {
          "output_type": "execute_result",
          "data": {
            "text/plain": [
              "[('prince', 0.6651734709739685),\n",
              " ('baratheon', 0.6596537828445435),\n",
              " ('realm', 0.6583049297332764),\n",
              " ('throne', 0.6287585496902466),\n",
              " ('victory', 0.5916072726249695),\n",
              " ('usurper', 0.5774223804473877),\n",
              " ('battle', 0.5767452716827393),\n",
              " ('council', 0.5684552788734436),\n",
              " ('targaryen', 0.5618156790733337),\n",
              " ('traitor', 0.5586431622505188)]"
            ]
          },
          "metadata": {},
          "execution_count": 52
        }
      ]
    },
    {
      "cell_type": "code",
      "source": [
        "model.wv[\"king\"]"
      ],
      "metadata": {
        "id": "fFEovKNRxp9S"
      },
      "execution_count": null,
      "outputs": []
    },
    {
      "cell_type": "code",
      "source": [
        "model.wv.most_similar(\"daenerys\")"
      ],
      "metadata": {
        "colab": {
          "base_uri": "https://localhost:8080/"
        },
        "id": "0wIupygSygl4",
        "outputId": "77621203-46b2-4837-d1f0-a3be0d3f1ff1"
      },
      "execution_count": 53,
      "outputs": [
        {
          "output_type": "execute_result",
          "data": {
            "text/plain": [
              "[('stormborn', 0.8289720416069031),\n",
              " ('queen', 0.7312886714935303),\n",
              " ('targaryen', 0.7119380831718445),\n",
              " ('unburnt', 0.7085464596748352),\n",
              " ('princess', 0.705463171005249),\n",
              " ('myrcella', 0.6774429082870483),\n",
              " ('elia', 0.6578168869018555),\n",
              " ('margaery', 0.6295678615570068),\n",
              " ('viserys', 0.6247549057006836),\n",
              " ('khaleesi', 0.624172031879425)]"
            ]
          },
          "metadata": {},
          "execution_count": 53
        }
      ]
    },
    {
      "cell_type": "code",
      "source": [
        "model.wv.most_similar(\"dragon\")"
      ],
      "metadata": {
        "colab": {
          "base_uri": "https://localhost:8080/"
        },
        "id": "ia5aLjLyymUa",
        "outputId": "5276aa5b-763b-4537-eb32-866b97502b25"
      },
      "execution_count": 55,
      "outputs": [
        {
          "output_type": "execute_result",
          "data": {
            "text/plain": [
              "[('valyria', 0.5933955907821655),\n",
              " ('star', 0.5817232728004456),\n",
              " ('fortress', 0.578070342540741),\n",
              " ('dragons', 0.5649496912956238),\n",
              " ('crone', 0.5619562268257141),\n",
              " ('comet', 0.5593140125274658),\n",
              " ('westeros', 0.5534182786941528),\n",
              " ('astapor', 0.5520880222320557),\n",
              " ('dynasty', 0.5505040287971497),\n",
              " ('veins', 0.5479201674461365)]"
            ]
          },
          "metadata": {},
          "execution_count": 55
        }
      ]
    },
    {
      "cell_type": "code",
      "source": [
        "model.wv.most_similar(\"dog\")"
      ],
      "metadata": {
        "colab": {
          "base_uri": "https://localhost:8080/"
        },
        "id": "8OI3-QF_yrk6",
        "outputId": "11f388b6-5688-4147-e24f-688df13fe150"
      },
      "execution_count": 58,
      "outputs": [
        {
          "output_type": "execute_result",
          "data": {
            "text/plain": [
              "[('rat', 0.6972994208335876),\n",
              " ('rorge', 0.6596587896347046),\n",
              " ('duck', 0.6496390700340271),\n",
              " ('pig', 0.6433452367782593),\n",
              " ('boot', 0.6300278902053833),\n",
              " ('shagga', 0.6114288568496704),\n",
              " ('whip', 0.5999821424484253),\n",
              " ('beast', 0.5972452163696289),\n",
              " ('snap', 0.5923657417297363),\n",
              " ('knife', 0.5863524079322815)]"
            ]
          },
          "metadata": {},
          "execution_count": 58
        }
      ]
    },
    {
      "cell_type": "code",
      "source": [
        "model.wv.doesnt_match(['jon','rikon'])"
      ],
      "metadata": {
        "colab": {
          "base_uri": "https://localhost:8080/",
          "height": 53
        },
        "id": "xlAidjB5zGdo",
        "outputId": "73fd1161-3472-483c-d690-6eddee041460"
      },
      "execution_count": 60,
      "outputs": [
        {
          "output_type": "stream",
          "name": "stderr",
          "text": [
            "WARNING:gensim.models.keyedvectors:vectors for words {'rikon'} are not present in the model, ignoring these words\n"
          ]
        },
        {
          "output_type": "execute_result",
          "data": {
            "text/plain": [
              "'jon'"
            ],
            "application/vnd.google.colaboratory.intrinsic+json": {
              "type": "string"
            }
          },
          "metadata": {},
          "execution_count": 60
        }
      ]
    },
    {
      "cell_type": "code",
      "source": [
        "model.wv.get_normed_vectors().shape"
      ],
      "metadata": {
        "colab": {
          "base_uri": "https://localhost:8080/"
        },
        "id": "yJIyJEXz0Xgr",
        "outputId": "1cd31ce5-0b42-4be0-d3e2-70f68e5a5d0e"
      },
      "execution_count": 63,
      "outputs": [
        {
          "output_type": "execute_result",
          "data": {
            "text/plain": [
              "(11760, 150)"
            ]
          },
          "metadata": {},
          "execution_count": 63
        }
      ]
    },
    {
      "cell_type": "code",
      "source": [
        "model.wv.index_to_key"
      ],
      "metadata": {
        "id": "X6zO3rol0u4v"
      },
      "execution_count": null,
      "outputs": []
    },
    {
      "cell_type": "code",
      "source": [
        "len(model.wv.index_to_key)"
      ],
      "metadata": {
        "colab": {
          "base_uri": "https://localhost:8080/"
        },
        "id": "nBfUuRBE01Nm",
        "outputId": "4a1c42d4-2b57-447f-fdea-dbf26ef59f99"
      },
      "execution_count": 66,
      "outputs": [
        {
          "output_type": "execute_result",
          "data": {
            "text/plain": [
              "11760"
            ]
          },
          "metadata": {},
          "execution_count": 66
        }
      ]
    },
    {
      "cell_type": "code",
      "source": [
        "model.wv.index_to_key[0]"
      ],
      "metadata": {
        "colab": {
          "base_uri": "https://localhost:8080/",
          "height": 35
        },
        "id": "6MgXqW9o07GX",
        "outputId": "939ced8d-b5ee-4514-f323-0d3826950d63"
      },
      "execution_count": 67,
      "outputs": [
        {
          "output_type": "execute_result",
          "data": {
            "text/plain": [
              "'the'"
            ],
            "application/vnd.google.colaboratory.intrinsic+json": {
              "type": "string"
            }
          },
          "metadata": {},
          "execution_count": 67
        }
      ]
    },
    {
      "cell_type": "code",
      "source": [
        "model.save(\"/content/data/word2vec.model\")"
      ],
      "metadata": {
        "id": "NZ8BYpy91LcO"
      },
      "execution_count": 68,
      "outputs": []
    },
    {
      "cell_type": "code",
      "source": [
        "model.save(\"word2vec.bin\")"
      ],
      "metadata": {
        "id": "owt3G7PL1qko"
      },
      "execution_count": 73,
      "outputs": []
    },
    {
      "cell_type": "code",
      "source": [
        "!gzip word2vec.bin > word2vec.bin.gz"
      ],
      "metadata": {
        "colab": {
          "base_uri": "https://localhost:8080/"
        },
        "id": "56-y_mhi1wHY",
        "outputId": "38a196a3-2b4f-48cb-cdd3-f609b5bcff04"
      },
      "execution_count": 74,
      "outputs": [
        {
          "output_type": "stream",
          "name": "stdout",
          "text": [
            "gzip: word2vec.bin.gz already exists; do you wish to overwrite (y or n)? y\n"
          ]
        }
      ]
    },
    {
      "cell_type": "code",
      "source": [
        "vector=model.wv.get_normed_vectors()"
      ],
      "metadata": {
        "id": "6tXJ6vMh96WJ"
      },
      "execution_count": 75,
      "outputs": []
    },
    {
      "cell_type": "code",
      "source": [
        "y=model.wv.index_to_key"
      ],
      "metadata": {
        "id": "lQltwcuh-RLM"
      },
      "execution_count": 80,
      "outputs": []
    },
    {
      "cell_type": "code",
      "source": [
        "import numpy as np\n",
        "from sklearn.decomposition import PCA\n",
        "pca = PCA(n_components=3)\n",
        "X=pca.fit_transform(vector)"
      ],
      "metadata": {
        "id": "91ieLxyl3ieJ"
      },
      "execution_count": 78,
      "outputs": []
    },
    {
      "cell_type": "code",
      "source": [
        "X.shape"
      ],
      "metadata": {
        "id": "Uvm6f_-2-Cek",
        "outputId": "e0199780-ad7d-41de-fa39-a174ee012af5",
        "colab": {
          "base_uri": "https://localhost:8080/"
        }
      },
      "execution_count": 79,
      "outputs": [
        {
          "output_type": "execute_result",
          "data": {
            "text/plain": [
              "(11760, 3)"
            ]
          },
          "metadata": {},
          "execution_count": 79
        }
      ]
    },
    {
      "cell_type": "code",
      "source": [
        "import plotly.express as px\n",
        "fig = px.scatter_3d(X[200:250],x=0,y=1,z=2, color=y[200:250])\n",
        "fig.show()"
      ],
      "metadata": {
        "id": "cTcbwnP_-bDm",
        "outputId": "f47edd2b-b936-4402-ed53-8dc8929e0128",
        "colab": {
          "base_uri": "https://localhost:8080/",
          "height": 542
        }
      },
      "execution_count": 81,
      "outputs": [
        {
          "output_type": "display_data",
          "data": {
            "text/html": [
              "<html>\n",
              "<head><meta charset=\"utf-8\" /></head>\n",
              "<body>\n",
              "    <div>            <script src=\"https://cdnjs.cloudflare.com/ajax/libs/mathjax/2.7.5/MathJax.js?config=TeX-AMS-MML_SVG\"></script><script type=\"text/javascript\">if (window.MathJax && window.MathJax.Hub && window.MathJax.Hub.Config) {window.MathJax.Hub.Config({SVG: {font: \"STIX-Web\"}});}</script>                <script type=\"text/javascript\">window.PlotlyConfig = {MathJaxConfig: 'local'};</script>\n",
              "        <script charset=\"utf-8\" src=\"https://cdn.plot.ly/plotly-2.24.1.min.js\"></script>                <div id=\"621fdd44-72fe-4ba1-acac-c9a5e942c88f\" class=\"plotly-graph-div\" style=\"height:525px; width:100%;\"></div>            <script type=\"text/javascript\">                                    window.PLOTLYENV=window.PLOTLYENV || {};                                    if (document.getElementById(\"621fdd44-72fe-4ba1-acac-c9a5e942c88f\")) {                    Plotly.newPlot(                        \"621fdd44-72fe-4ba1-acac-c9a5e942c88f\",                        [{\"hovertemplate\":\"color=hands\\u003cbr\\u003e0=%{x}\\u003cbr\\u003e1=%{y}\\u003cbr\\u003e2=%{z}\\u003cextra\\u003e\\u003c\\u002fextra\\u003e\",\"legendgroup\":\"hands\",\"marker\":{\"color\":\"#636efa\",\"symbol\":\"circle\"},\"mode\":\"markers\",\"name\":\"hands\",\"scene\":\"scene\",\"showlegend\":true,\"x\":[-0.21696335077285767],\"y\":[0.2145088165998459],\"z\":[0.5819672346115112],\"type\":\"scatter3d\"},{\"hovertemplate\":\"color=stannis\\u003cbr\\u003e0=%{x}\\u003cbr\\u003e1=%{y}\\u003cbr\\u003e2=%{z}\\u003cextra\\u003e\\u003c\\u002fextra\\u003e\",\"legendgroup\":\"stannis\",\"marker\":{\"color\":\"#EF553B\",\"symbol\":\"circle\"},\"mode\":\"markers\",\"name\":\"stannis\",\"scene\":\"scene\",\"showlegend\":true,\"x\":[0.46092501282691956],\"y\":[0.5613508224487305],\"z\":[0.18700328469276428],\"type\":\"scatter3d\"},{\"hovertemplate\":\"color=mother\\u003cbr\\u003e0=%{x}\\u003cbr\\u003e1=%{y}\\u003cbr\\u003e2=%{z}\\u003cextra\\u003e\\u003c\\u002fextra\\u003e\",\"legendgroup\":\"mother\",\"marker\":{\"color\":\"#00cc96\",\"symbol\":\"circle\"},\"mode\":\"markers\",\"name\":\"mother\",\"scene\":\"scene\",\"showlegend\":true,\"x\":[0.5283401608467102],\"y\":[0.36146053671836853],\"z\":[0.3471645414829254],\"type\":\"scatter3d\"},{\"hovertemplate\":\"color=catelyn\\u003cbr\\u003e0=%{x}\\u003cbr\\u003e1=%{y}\\u003cbr\\u003e2=%{z}\\u003cextra\\u003e\\u003c\\u002fextra\\u003e\",\"legendgroup\":\"catelyn\",\"marker\":{\"color\":\"#ab63fa\",\"symbol\":\"circle\"},\"mode\":\"markers\",\"name\":\"catelyn\",\"scene\":\"scene\",\"showlegend\":true,\"x\":[0.2876439392566681],\"y\":[0.17670033872127533],\"z\":[0.33904069662094116],\"type\":\"scatter3d\"},{\"hovertemplate\":\"color=robert\\u003cbr\\u003e0=%{x}\\u003cbr\\u003e1=%{y}\\u003cbr\\u003e2=%{z}\\u003cextra\\u003e\\u003c\\u002fextra\\u003e\",\"legendgroup\":\"robert\",\"marker\":{\"color\":\"#FFA15A\",\"symbol\":\"circle\"},\"mode\":\"markers\",\"name\":\"robert\",\"scene\":\"scene\",\"showlegend\":true,\"x\":[0.582219660282135],\"y\":[0.32824984192848206],\"z\":[0.2735373079776764],\"type\":\"scatter3d\"},{\"hovertemplate\":\"color=seemed\\u003cbr\\u003e0=%{x}\\u003cbr\\u003e1=%{y}\\u003cbr\\u003e2=%{z}\\u003cextra\\u003e\\u003c\\u002fextra\\u003e\",\"legendgroup\":\"seemed\",\"marker\":{\"color\":\"#19d3f3\",\"symbol\":\"circle\"},\"mode\":\"markers\",\"name\":\"seemed\",\"scene\":\"scene\",\"showlegend\":true,\"x\":[0.06464916467666626],\"y\":[0.293160080909729],\"z\":[0.41516485810279846],\"type\":\"scatter3d\"},{\"hovertemplate\":\"color=prince\\u003cbr\\u003e0=%{x}\\u003cbr\\u003e1=%{y}\\u003cbr\\u003e2=%{z}\\u003cextra\\u003e\\u003c\\u002fextra\\u003e\",\"legendgroup\":\"prince\",\"marker\":{\"color\":\"#FF6692\",\"symbol\":\"circle\"},\"mode\":\"markers\",\"name\":\"prince\",\"scene\":\"scene\",\"showlegend\":true,\"x\":[0.6245088577270508],\"y\":[0.3074096739292145],\"z\":[0.2765863835811615],\"type\":\"scatter3d\"},{\"hovertemplate\":\"color=may\\u003cbr\\u003e0=%{x}\\u003cbr\\u003e1=%{y}\\u003cbr\\u003e2=%{z}\\u003cextra\\u003e\\u003c\\u002fextra\\u003e\",\"legendgroup\":\"may\",\"marker\":{\"color\":\"#B6E880\",\"symbol\":\"circle\"},\"mode\":\"markers\",\"name\":\"may\",\"scene\":\"scene\",\"showlegend\":true,\"x\":[0.612583339214325],\"y\":[0.35256528854370117],\"z\":[0.2934376895427704],\"type\":\"scatter3d\"},{\"hovertemplate\":\"color=ever\\u003cbr\\u003e0=%{x}\\u003cbr\\u003e1=%{y}\\u003cbr\\u003e2=%{z}\\u003cextra\\u003e\\u003c\\u002fextra\\u003e\",\"legendgroup\":\"ever\",\"marker\":{\"color\":\"#FF97FF\",\"symbol\":\"circle\"},\"mode\":\"markers\",\"name\":\"ever\",\"scene\":\"scene\",\"showlegend\":true,\"x\":[0.48485881090164185],\"y\":[0.36532947421073914],\"z\":[0.2440776377916336],\"type\":\"scatter3d\"},{\"hovertemplate\":\"color=robb\\u003cbr\\u003e0=%{x}\\u003cbr\\u003e1=%{y}\\u003cbr\\u003e2=%{z}\\u003cextra\\u003e\\u003c\\u002fextra\\u003e\",\"legendgroup\":\"robb\",\"marker\":{\"color\":\"#FECB52\",\"symbol\":\"circle\"},\"mode\":\"markers\",\"name\":\"robb\",\"scene\":\"scene\",\"showlegend\":true,\"x\":[0.45380011200904846],\"y\":[0.288108766078949],\"z\":[0.3915509879589081],\"type\":\"scatter3d\"},{\"hovertemplate\":\"color=done\\u003cbr\\u003e0=%{x}\\u003cbr\\u003e1=%{y}\\u003cbr\\u003e2=%{z}\\u003cextra\\u003e\\u003c\\u002fextra\\u003e\",\"legendgroup\":\"done\",\"marker\":{\"color\":\"#636efa\",\"symbol\":\"circle\"},\"mode\":\"markers\",\"name\":\"done\",\"scene\":\"scene\",\"showlegend\":true,\"x\":[0.5291441082954407],\"y\":[0.46129584312438965],\"z\":[0.4749705493450165],\"type\":\"scatter3d\"},{\"hovertemplate\":\"color=don\\u003cbr\\u003e0=%{x}\\u003cbr\\u003e1=%{y}\\u003cbr\\u003e2=%{z}\\u003cextra\\u003e\\u003c\\u002fextra\\u003e\",\"legendgroup\":\"don\",\"marker\":{\"color\":\"#EF553B\",\"symbol\":\"circle\"},\"mode\":\"markers\",\"name\":\"don\",\"scene\":\"scene\",\"showlegend\":true,\"x\":[0.5304146409034729],\"y\":[0.1527436375617981],\"z\":[0.4310368299484253],\"type\":\"scatter3d\"},{\"hovertemplate\":\"color=find\\u003cbr\\u003e0=%{x}\\u003cbr\\u003e1=%{y}\\u003cbr\\u003e2=%{z}\\u003cextra\\u003e\\u003c\\u002fextra\\u003e\",\"legendgroup\":\"find\",\"marker\":{\"color\":\"#00cc96\",\"symbol\":\"circle\"},\"mode\":\"markers\",\"name\":\"find\",\"scene\":\"scene\",\"showlegend\":true,\"x\":[0.45548272132873535],\"y\":[0.4528314769268036],\"z\":[0.5550341606140137],\"type\":\"scatter3d\"},{\"hovertemplate\":\"color=lannister\\u003cbr\\u003e0=%{x}\\u003cbr\\u003e1=%{y}\\u003cbr\\u003e2=%{z}\\u003cextra\\u003e\\u003c\\u002fextra\\u003e\",\"legendgroup\":\"lannister\",\"marker\":{\"color\":\"#ab63fa\",\"symbol\":\"circle\"},\"mode\":\"markers\",\"name\":\"lannister\",\"scene\":\"scene\",\"showlegend\":true,\"x\":[0.45793840289115906],\"y\":[0.31914108991622925],\"z\":[0.2629733383655548],\"type\":\"scatter3d\"},{\"hovertemplate\":\"color=re\\u003cbr\\u003e0=%{x}\\u003cbr\\u003e1=%{y}\\u003cbr\\u003e2=%{z}\\u003cextra\\u003e\\u003c\\u002fextra\\u003e\",\"legendgroup\":\"re\",\"marker\":{\"color\":\"#FFA15A\",\"symbol\":\"circle\"},\"mode\":\"markers\",\"name\":\"re\",\"scene\":\"scene\",\"showlegend\":true,\"x\":[0.4161878824234009],\"y\":[0.3254271447658539],\"z\":[0.3863670825958252],\"type\":\"scatter3d\"},{\"hovertemplate\":\"color=hear\\u003cbr\\u003e0=%{x}\\u003cbr\\u003e1=%{y}\\u003cbr\\u003e2=%{z}\\u003cextra\\u003e\\u003c\\u002fextra\\u003e\",\"legendgroup\":\"hear\",\"marker\":{\"color\":\"#19d3f3\",\"symbol\":\"circle\"},\"mode\":\"markers\",\"name\":\"hear\",\"scene\":\"scene\",\"showlegend\":true,\"x\":[0.23836621642112732],\"y\":[0.32678189873695374],\"z\":[0.5632376074790955],\"type\":\"scatter3d\"},{\"hovertemplate\":\"color=name\\u003cbr\\u003e0=%{x}\\u003cbr\\u003e1=%{y}\\u003cbr\\u003e2=%{z}\\u003cextra\\u003e\\u003c\\u002fextra\\u003e\",\"legendgroup\":\"name\",\"marker\":{\"color\":\"#FF6692\",\"symbol\":\"circle\"},\"mode\":\"markers\",\"name\":\"name\",\"scene\":\"scene\",\"showlegend\":true,\"x\":[0.627671480178833],\"y\":[0.4278077185153961],\"z\":[0.45341718196868896],\"type\":\"scatter3d\"},{\"hovertemplate\":\"color=grey\\u003cbr\\u003e0=%{x}\\u003cbr\\u003e1=%{y}\\u003cbr\\u003e2=%{z}\\u003cextra\\u003e\\u003c\\u002fextra\\u003e\",\"legendgroup\":\"grey\",\"marker\":{\"color\":\"#B6E880\",\"symbol\":\"circle\"},\"mode\":\"markers\",\"name\":\"grey\",\"scene\":\"scene\",\"showlegend\":true,\"x\":[-0.4037437438964844],\"y\":[0.22971820831298828],\"z\":[0.08519691228866577],\"type\":\"scatter3d\"},{\"hovertemplate\":\"color=horse\\u003cbr\\u003e0=%{x}\\u003cbr\\u003e1=%{y}\\u003cbr\\u003e2=%{z}\\u003cextra\\u003e\\u003c\\u002fextra\\u003e\",\"legendgroup\":\"horse\",\"marker\":{\"color\":\"#FF97FF\",\"symbol\":\"circle\"},\"mode\":\"markers\",\"name\":\"horse\",\"scene\":\"scene\",\"showlegend\":true,\"x\":[-0.29883697628974915],\"y\":[0.33908966183662415],\"z\":[0.5526642203330994],\"type\":\"scatter3d\"},{\"hovertemplate\":\"color=high\\u003cbr\\u003e0=%{x}\\u003cbr\\u003e1=%{y}\\u003cbr\\u003e2=%{z}\\u003cextra\\u003e\\u003c\\u002fextra\\u003e\",\"legendgroup\":\"high\",\"marker\":{\"color\":\"#FECB52\",\"symbol\":\"circle\"},\"mode\":\"markers\",\"name\":\"high\",\"scene\":\"scene\",\"showlegend\":true,\"x\":[-0.11805111169815063],\"y\":[0.4970088303089142],\"z\":[0.012015060521662235],\"type\":\"scatter3d\"},{\"hovertemplate\":\"color=put\\u003cbr\\u003e0=%{x}\\u003cbr\\u003e1=%{y}\\u003cbr\\u003e2=%{z}\\u003cextra\\u003e\\u003c\\u002fextra\\u003e\",\"legendgroup\":\"put\",\"marker\":{\"color\":\"#636efa\",\"symbol\":\"circle\"},\"mode\":\"markers\",\"name\":\"put\",\"scene\":\"scene\",\"showlegend\":true,\"x\":[0.318930983543396],\"y\":[0.24882234632968903],\"z\":[0.7714170813560486],\"type\":\"scatter3d\"},{\"hovertemplate\":\"color=stone\\u003cbr\\u003e0=%{x}\\u003cbr\\u003e1=%{y}\\u003cbr\\u003e2=%{z}\\u003cextra\\u003e\\u003c\\u002fextra\\u003e\",\"legendgroup\":\"stone\",\"marker\":{\"color\":\"#EF553B\",\"symbol\":\"circle\"},\"mode\":\"markers\",\"name\":\"stone\",\"scene\":\"scene\",\"showlegend\":true,\"x\":[-0.572675883769989],\"y\":[0.5949352979660034],\"z\":[0.04730622097849846],\"type\":\"scatter3d\"},{\"hovertemplate\":\"color=wine\\u003cbr\\u003e0=%{x}\\u003cbr\\u003e1=%{y}\\u003cbr\\u003e2=%{z}\\u003cextra\\u003e\\u003c\\u002fextra\\u003e\",\"legendgroup\":\"wine\",\"marker\":{\"color\":\"#00cc96\",\"symbol\":\"circle\"},\"mode\":\"markers\",\"name\":\"wine\",\"scene\":\"scene\",\"showlegend\":true,\"x\":[0.009560470469295979],\"y\":[0.09381209313869476],\"z\":[0.46658650040626526],\"type\":\"scatter3d\"},{\"hovertemplate\":\"color=hard\\u003cbr\\u003e0=%{x}\\u003cbr\\u003e1=%{y}\\u003cbr\\u003e2=%{z}\\u003cextra\\u003e\\u003c\\u002fextra\\u003e\",\"legendgroup\":\"hard\",\"marker\":{\"color\":\"#ab63fa\",\"symbol\":\"circle\"},\"mode\":\"markers\",\"name\":\"hard\",\"scene\":\"scene\",\"showlegend\":true,\"x\":[-0.27421173453330994],\"y\":[0.1726602017879486],\"z\":[0.4732637405395508],\"type\":\"scatter3d\"},{\"hovertemplate\":\"color=water\\u003cbr\\u003e0=%{x}\\u003cbr\\u003e1=%{y}\\u003cbr\\u003e2=%{z}\\u003cextra\\u003e\\u003c\\u002fextra\\u003e\",\"legendgroup\":\"water\",\"marker\":{\"color\":\"#FFA15A\",\"symbol\":\"circle\"},\"mode\":\"markers\",\"name\":\"water\",\"scene\":\"scene\",\"showlegend\":true,\"x\":[-0.46731340885162354],\"y\":[0.4244762659072876],\"z\":[0.4170876741409302],\"type\":\"scatter3d\"},{\"hovertemplate\":\"color=upon\\u003cbr\\u003e0=%{x}\\u003cbr\\u003e1=%{y}\\u003cbr\\u003e2=%{z}\\u003cextra\\u003e\\u003c\\u002fextra\\u003e\",\"legendgroup\":\"upon\",\"marker\":{\"color\":\"#19d3f3\",\"symbol\":\"circle\"},\"mode\":\"markers\",\"name\":\"upon\",\"scene\":\"scene\",\"showlegend\":true,\"x\":[-0.02582591027021408],\"y\":[0.3638538122177124],\"z\":[0.2441847026348114],\"type\":\"scatter3d\"},{\"hovertemplate\":\"color=fire\\u003cbr\\u003e0=%{x}\\u003cbr\\u003e1=%{y}\\u003cbr\\u003e2=%{z}\\u003cextra\\u003e\\u003c\\u002fextra\\u003e\",\"legendgroup\":\"fire\",\"marker\":{\"color\":\"#FF6692\",\"symbol\":\"circle\"},\"mode\":\"markers\",\"name\":\"fire\",\"scene\":\"scene\",\"showlegend\":true,\"x\":[-0.40551868081092834],\"y\":[0.6141601204872131],\"z\":[0.2785927951335907],\"type\":\"scatter3d\"},{\"hovertemplate\":\"color=iron\\u003cbr\\u003e0=%{x}\\u003cbr\\u003e1=%{y}\\u003cbr\\u003e2=%{z}\\u003cextra\\u003e\\u003c\\u002fextra\\u003e\",\"legendgroup\":\"iron\",\"marker\":{\"color\":\"#B6E880\",\"symbol\":\"circle\"},\"mode\":\"markers\",\"name\":\"iron\",\"scene\":\"scene\",\"showlegend\":true,\"x\":[-0.14700551331043243],\"y\":[0.5265486836433411],\"z\":[0.05253704637289047],\"type\":\"scatter3d\"},{\"hovertemplate\":\"color=until\\u003cbr\\u003e0=%{x}\\u003cbr\\u003e1=%{y}\\u003cbr\\u003e2=%{z}\\u003cextra\\u003e\\u003c\\u002fextra\\u003e\",\"legendgroup\":\"until\",\"marker\":{\"color\":\"#FF97FF\",\"symbol\":\"circle\"},\"mode\":\"markers\",\"name\":\"until\",\"scene\":\"scene\",\"showlegend\":true,\"x\":[-0.055297236889600754],\"y\":[0.3922688663005829],\"z\":[0.5306950211524963],\"type\":\"scatter3d\"},{\"hovertemplate\":\"color=these\\u003cbr\\u003e0=%{x}\\u003cbr\\u003e1=%{y}\\u003cbr\\u003e2=%{z}\\u003cextra\\u003e\\u003c\\u002fextra\\u003e\",\"legendgroup\":\"these\",\"marker\":{\"color\":\"#FECB52\",\"symbol\":\"circle\"},\"mode\":\"markers\",\"name\":\"these\",\"scene\":\"scene\",\"showlegend\":true,\"x\":[0.5027787685394287],\"y\":[0.7080658674240112],\"z\":[-0.1284533441066742],\"type\":\"scatter3d\"},{\"hovertemplate\":\"color=voice\\u003cbr\\u003e0=%{x}\\u003cbr\\u003e1=%{y}\\u003cbr\\u003e2=%{z}\\u003cextra\\u003e\\u003c\\u002fextra\\u003e\",\"legendgroup\":\"voice\",\"marker\":{\"color\":\"#636efa\",\"symbol\":\"circle\"},\"mode\":\"markers\",\"name\":\"voice\",\"scene\":\"scene\",\"showlegend\":true,\"x\":[0.09761892259120941],\"y\":[0.03614251688122749],\"z\":[0.5270485281944275],\"type\":\"scatter3d\"},{\"hovertemplate\":\"color=gone\\u003cbr\\u003e0=%{x}\\u003cbr\\u003e1=%{y}\\u003cbr\\u003e2=%{z}\\u003cextra\\u003e\\u003c\\u002fextra\\u003e\",\"legendgroup\":\"gone\",\"marker\":{\"color\":\"#EF553B\",\"symbol\":\"circle\"},\"mode\":\"markers\",\"name\":\"gone\",\"scene\":\"scene\",\"showlegend\":true,\"x\":[0.14275676012039185],\"y\":[0.41667619347572327],\"z\":[0.5306380987167358],\"type\":\"scatter3d\"},{\"hovertemplate\":\"color=give\\u003cbr\\u003e0=%{x}\\u003cbr\\u003e1=%{y}\\u003cbr\\u003e2=%{z}\\u003cextra\\u003e\\u003c\\u002fextra\\u003e\",\"legendgroup\":\"give\",\"marker\":{\"color\":\"#00cc96\",\"symbol\":\"circle\"},\"mode\":\"markers\",\"name\":\"give\",\"scene\":\"scene\",\"showlegend\":true,\"x\":[0.6168943643569946],\"y\":[0.2837294042110443],\"z\":[0.5328715443611145],\"type\":\"scatter3d\"},{\"hovertemplate\":\"color=sam\\u003cbr\\u003e0=%{x}\\u003cbr\\u003e1=%{y}\\u003cbr\\u003e2=%{z}\\u003cextra\\u003e\\u003c\\u002fextra\\u003e\",\"legendgroup\":\"sam\",\"marker\":{\"color\":\"#ab63fa\",\"symbol\":\"circle\"},\"mode\":\"markers\",\"name\":\"sam\",\"scene\":\"scene\",\"showlegend\":true,\"x\":[0.06079108640551567],\"y\":[0.0916299819946289],\"z\":[0.48802679777145386],\"type\":\"scatter3d\"},{\"hovertemplate\":\"color=seen\\u003cbr\\u003e0=%{x}\\u003cbr\\u003e1=%{y}\\u003cbr\\u003e2=%{z}\\u003cextra\\u003e\\u003c\\u002fextra\\u003e\",\"legendgroup\":\"seen\",\"marker\":{\"color\":\"#FFA15A\",\"symbol\":\"circle\"},\"mode\":\"markers\",\"name\":\"seen\",\"scene\":\"scene\",\"showlegend\":true,\"x\":[0.18655821681022644],\"y\":[0.49201643466949463],\"z\":[0.4064778983592987],\"type\":\"scatter3d\"},{\"hovertemplate\":\"color=better\\u003cbr\\u003e0=%{x}\\u003cbr\\u003e1=%{y}\\u003cbr\\u003e2=%{z}\\u003cextra\\u003e\\u003c\\u002fextra\\u003e\",\"legendgroup\":\"better\",\"marker\":{\"color\":\"#19d3f3\",\"symbol\":\"circle\"},\"mode\":\"markers\",\"name\":\"better\",\"scene\":\"scene\",\"showlegend\":true,\"x\":[0.49186739325523376],\"y\":[0.36174115538597107],\"z\":[0.26272207498550415],\"type\":\"scatter3d\"},{\"hovertemplate\":\"color=shall\\u003cbr\\u003e0=%{x}\\u003cbr\\u003e1=%{y}\\u003cbr\\u003e2=%{z}\\u003cextra\\u003e\\u003c\\u002fextra\\u003e\",\"legendgroup\":\"shall\",\"marker\":{\"color\":\"#FF6692\",\"symbol\":\"circle\"},\"mode\":\"markers\",\"name\":\"shall\",\"scene\":\"scene\",\"showlegend\":true,\"x\":[0.5753714442253113],\"y\":[0.4006176292896271],\"z\":[0.29041537642478943],\"type\":\"scatter3d\"},{\"hovertemplate\":\"color=ned\\u003cbr\\u003e0=%{x}\\u003cbr\\u003e1=%{y}\\u003cbr\\u003e2=%{z}\\u003cextra\\u003e\\u003c\\u002fextra\\u003e\",\"legendgroup\":\"ned\",\"marker\":{\"color\":\"#B6E880\",\"symbol\":\"circle\"},\"mode\":\"markers\",\"name\":\"ned\",\"scene\":\"scene\",\"showlegend\":true,\"x\":[0.30872032046318054],\"y\":[0.14150023460388184],\"z\":[0.4398587644100189],\"type\":\"scatter3d\"},{\"hovertemplate\":\"color=always\\u003cbr\\u003e0=%{x}\\u003cbr\\u003e1=%{y}\\u003cbr\\u003e2=%{z}\\u003cextra\\u003e\\u003c\\u002fextra\\u003e\",\"legendgroup\":\"always\",\"marker\":{\"color\":\"#FF97FF\",\"symbol\":\"circle\"},\"mode\":\"markers\",\"name\":\"always\",\"scene\":\"scene\",\"showlegend\":true,\"x\":[0.5381677150726318],\"y\":[0.29348811507225037],\"z\":[0.26903924345970154],\"type\":\"scatter3d\"},{\"hovertemplate\":\"color=years\\u003cbr\\u003e0=%{x}\\u003cbr\\u003e1=%{y}\\u003cbr\\u003e2=%{z}\\u003cextra\\u003e\\u003c\\u002fextra\\u003e\",\"legendgroup\":\"years\",\"marker\":{\"color\":\"#FECB52\",\"symbol\":\"circle\"},\"mode\":\"markers\",\"name\":\"years\",\"scene\":\"scene\",\"showlegend\":true,\"x\":[0.3665594160556793],\"y\":[0.5897974371910095],\"z\":[0.10246478021144867],\"type\":\"scatter3d\"},{\"hovertemplate\":\"color=between\\u003cbr\\u003e0=%{x}\\u003cbr\\u003e1=%{y}\\u003cbr\\u003e2=%{z}\\u003cextra\\u003e\\u003c\\u002fextra\\u003e\",\"legendgroup\":\"between\",\"marker\":{\"color\":\"#636efa\",\"symbol\":\"circle\"},\"mode\":\"markers\",\"name\":\"between\",\"scene\":\"scene\",\"showlegend\":true,\"x\":[-0.3487103283405304],\"y\":[0.22651925683021545],\"z\":[0.3540897071361542],\"type\":\"scatter3d\"},{\"hovertemplate\":\"color=dark\\u003cbr\\u003e0=%{x}\\u003cbr\\u003e1=%{y}\\u003cbr\\u003e2=%{z}\\u003cextra\\u003e\\u003c\\u002fextra\\u003e\",\"legendgroup\":\"dark\",\"marker\":{\"color\":\"#EF553B\",\"symbol\":\"circle\"},\"mode\":\"markers\",\"name\":\"dark\",\"scene\":\"scene\",\"showlegend\":true,\"x\":[-0.460652619600296],\"y\":[0.37343695759773254],\"z\":[0.18593397736549377],\"type\":\"scatter3d\"},{\"hovertemplate\":\"color=place\\u003cbr\\u003e0=%{x}\\u003cbr\\u003e1=%{y}\\u003cbr\\u003e2=%{z}\\u003cextra\\u003e\\u003c\\u002fextra\\u003e\",\"legendgroup\":\"place\",\"marker\":{\"color\":\"#00cc96\",\"symbol\":\"circle\"},\"mode\":\"markers\",\"name\":\"place\",\"scene\":\"scene\",\"showlegend\":true,\"x\":[0.3067019283771515],\"y\":[0.7083227634429932],\"z\":[0.3456614017486572],\"type\":\"scatter3d\"},{\"hovertemplate\":\"color=small\\u003cbr\\u003e0=%{x}\\u003cbr\\u003e1=%{y}\\u003cbr\\u003e2=%{z}\\u003cextra\\u003e\\u003c\\u002fextra\\u003e\",\"legendgroup\":\"small\",\"marker\":{\"color\":\"#ab63fa\",\"symbol\":\"circle\"},\"mode\":\"markers\",\"name\":\"small\",\"scene\":\"scene\",\"showlegend\":true,\"x\":[-0.17455905675888062],\"y\":[0.36575379967689514],\"z\":[-0.06268395483493805],\"type\":\"scatter3d\"},{\"hovertemplate\":\"color=cold\\u003cbr\\u003e0=%{x}\\u003cbr\\u003e1=%{y}\\u003cbr\\u003e2=%{z}\\u003cextra\\u003e\\u003c\\u002fextra\\u003e\",\"legendgroup\":\"cold\",\"marker\":{\"color\":\"#FFA15A\",\"symbol\":\"circle\"},\"mode\":\"markers\",\"name\":\"cold\",\"scene\":\"scene\",\"showlegend\":true,\"x\":[-0.2995844781398773],\"y\":[0.33659833669662476],\"z\":[0.3443419933319092],\"type\":\"scatter3d\"},{\"hovertemplate\":\"color=winterfell\\u003cbr\\u003e0=%{x}\\u003cbr\\u003e1=%{y}\\u003cbr\\u003e2=%{z}\\u003cextra\\u003e\\u003c\\u002fextra\\u003e\",\"legendgroup\":\"winterfell\",\"marker\":{\"color\":\"#19d3f3\",\"symbol\":\"circle\"},\"mode\":\"markers\",\"name\":\"winterfell\",\"scene\":\"scene\",\"showlegend\":true,\"x\":[0.39809492230415344],\"y\":[0.6722668409347534],\"z\":[0.2637162506580353],\"type\":\"scatter3d\"},{\"hovertemplate\":\"color=most\\u003cbr\\u003e0=%{x}\\u003cbr\\u003e1=%{y}\\u003cbr\\u003e2=%{z}\\u003cextra\\u003e\\u003c\\u002fextra\\u003e\",\"legendgroup\":\"most\",\"marker\":{\"color\":\"#FF6692\",\"symbol\":\"circle\"},\"mode\":\"markers\",\"name\":\"most\",\"scene\":\"scene\",\"showlegend\":true,\"x\":[0.49627751111984253],\"y\":[0.6344543695449829],\"z\":[-0.1082572266459465],\"type\":\"scatter3d\"},{\"hovertemplate\":\"color=hundred\\u003cbr\\u003e0=%{x}\\u003cbr\\u003e1=%{y}\\u003cbr\\u003e2=%{z}\\u003cextra\\u003e\\u003c\\u002fextra\\u003e\",\"legendgroup\":\"hundred\",\"marker\":{\"color\":\"#B6E880\",\"symbol\":\"circle\"},\"mode\":\"markers\",\"name\":\"hundred\",\"scene\":\"scene\",\"showlegend\":true,\"x\":[0.05698566138744354],\"y\":[0.7138491868972778],\"z\":[-0.13701659440994263],\"type\":\"scatter3d\"},{\"hovertemplate\":\"color=stood\\u003cbr\\u003e0=%{x}\\u003cbr\\u003e1=%{y}\\u003cbr\\u003e2=%{z}\\u003cextra\\u003e\\u003c\\u002fextra\\u003e\",\"legendgroup\":\"stood\",\"marker\":{\"color\":\"#FF97FF\",\"symbol\":\"circle\"},\"mode\":\"markers\",\"name\":\"stood\",\"scene\":\"scene\",\"showlegend\":true,\"x\":[-0.22543026506900787],\"y\":[0.3566496670246124],\"z\":[0.3526996970176697],\"type\":\"scatter3d\"},{\"hovertemplate\":\"color=end\\u003cbr\\u003e0=%{x}\\u003cbr\\u003e1=%{y}\\u003cbr\\u003e2=%{z}\\u003cextra\\u003e\\u003c\\u002fextra\\u003e\",\"legendgroup\":\"end\",\"marker\":{\"color\":\"#FECB52\",\"symbol\":\"circle\"},\"mode\":\"markers\",\"name\":\"end\",\"scene\":\"scene\",\"showlegend\":true,\"x\":[0.17407861351966858],\"y\":[0.6922988891601562],\"z\":[0.36420467495918274],\"type\":\"scatter3d\"}],                        {\"template\":{\"data\":{\"histogram2dcontour\":[{\"type\":\"histogram2dcontour\",\"colorbar\":{\"outlinewidth\":0,\"ticks\":\"\"},\"colorscale\":[[0.0,\"#0d0887\"],[0.1111111111111111,\"#46039f\"],[0.2222222222222222,\"#7201a8\"],[0.3333333333333333,\"#9c179e\"],[0.4444444444444444,\"#bd3786\"],[0.5555555555555556,\"#d8576b\"],[0.6666666666666666,\"#ed7953\"],[0.7777777777777778,\"#fb9f3a\"],[0.8888888888888888,\"#fdca26\"],[1.0,\"#f0f921\"]]}],\"choropleth\":[{\"type\":\"choropleth\",\"colorbar\":{\"outlinewidth\":0,\"ticks\":\"\"}}],\"histogram2d\":[{\"type\":\"histogram2d\",\"colorbar\":{\"outlinewidth\":0,\"ticks\":\"\"},\"colorscale\":[[0.0,\"#0d0887\"],[0.1111111111111111,\"#46039f\"],[0.2222222222222222,\"#7201a8\"],[0.3333333333333333,\"#9c179e\"],[0.4444444444444444,\"#bd3786\"],[0.5555555555555556,\"#d8576b\"],[0.6666666666666666,\"#ed7953\"],[0.7777777777777778,\"#fb9f3a\"],[0.8888888888888888,\"#fdca26\"],[1.0,\"#f0f921\"]]}],\"heatmap\":[{\"type\":\"heatmap\",\"colorbar\":{\"outlinewidth\":0,\"ticks\":\"\"},\"colorscale\":[[0.0,\"#0d0887\"],[0.1111111111111111,\"#46039f\"],[0.2222222222222222,\"#7201a8\"],[0.3333333333333333,\"#9c179e\"],[0.4444444444444444,\"#bd3786\"],[0.5555555555555556,\"#d8576b\"],[0.6666666666666666,\"#ed7953\"],[0.7777777777777778,\"#fb9f3a\"],[0.8888888888888888,\"#fdca26\"],[1.0,\"#f0f921\"]]}],\"heatmapgl\":[{\"type\":\"heatmapgl\",\"colorbar\":{\"outlinewidth\":0,\"ticks\":\"\"},\"colorscale\":[[0.0,\"#0d0887\"],[0.1111111111111111,\"#46039f\"],[0.2222222222222222,\"#7201a8\"],[0.3333333333333333,\"#9c179e\"],[0.4444444444444444,\"#bd3786\"],[0.5555555555555556,\"#d8576b\"],[0.6666666666666666,\"#ed7953\"],[0.7777777777777778,\"#fb9f3a\"],[0.8888888888888888,\"#fdca26\"],[1.0,\"#f0f921\"]]}],\"contourcarpet\":[{\"type\":\"contourcarpet\",\"colorbar\":{\"outlinewidth\":0,\"ticks\":\"\"}}],\"contour\":[{\"type\":\"contour\",\"colorbar\":{\"outlinewidth\":0,\"ticks\":\"\"},\"colorscale\":[[0.0,\"#0d0887\"],[0.1111111111111111,\"#46039f\"],[0.2222222222222222,\"#7201a8\"],[0.3333333333333333,\"#9c179e\"],[0.4444444444444444,\"#bd3786\"],[0.5555555555555556,\"#d8576b\"],[0.6666666666666666,\"#ed7953\"],[0.7777777777777778,\"#fb9f3a\"],[0.8888888888888888,\"#fdca26\"],[1.0,\"#f0f921\"]]}],\"surface\":[{\"type\":\"surface\",\"colorbar\":{\"outlinewidth\":0,\"ticks\":\"\"},\"colorscale\":[[0.0,\"#0d0887\"],[0.1111111111111111,\"#46039f\"],[0.2222222222222222,\"#7201a8\"],[0.3333333333333333,\"#9c179e\"],[0.4444444444444444,\"#bd3786\"],[0.5555555555555556,\"#d8576b\"],[0.6666666666666666,\"#ed7953\"],[0.7777777777777778,\"#fb9f3a\"],[0.8888888888888888,\"#fdca26\"],[1.0,\"#f0f921\"]]}],\"mesh3d\":[{\"type\":\"mesh3d\",\"colorbar\":{\"outlinewidth\":0,\"ticks\":\"\"}}],\"scatter\":[{\"fillpattern\":{\"fillmode\":\"overlay\",\"size\":10,\"solidity\":0.2},\"type\":\"scatter\"}],\"parcoords\":[{\"type\":\"parcoords\",\"line\":{\"colorbar\":{\"outlinewidth\":0,\"ticks\":\"\"}}}],\"scatterpolargl\":[{\"type\":\"scatterpolargl\",\"marker\":{\"colorbar\":{\"outlinewidth\":0,\"ticks\":\"\"}}}],\"bar\":[{\"error_x\":{\"color\":\"#2a3f5f\"},\"error_y\":{\"color\":\"#2a3f5f\"},\"marker\":{\"line\":{\"color\":\"#E5ECF6\",\"width\":0.5},\"pattern\":{\"fillmode\":\"overlay\",\"size\":10,\"solidity\":0.2}},\"type\":\"bar\"}],\"scattergeo\":[{\"type\":\"scattergeo\",\"marker\":{\"colorbar\":{\"outlinewidth\":0,\"ticks\":\"\"}}}],\"scatterpolar\":[{\"type\":\"scatterpolar\",\"marker\":{\"colorbar\":{\"outlinewidth\":0,\"ticks\":\"\"}}}],\"histogram\":[{\"marker\":{\"pattern\":{\"fillmode\":\"overlay\",\"size\":10,\"solidity\":0.2}},\"type\":\"histogram\"}],\"scattergl\":[{\"type\":\"scattergl\",\"marker\":{\"colorbar\":{\"outlinewidth\":0,\"ticks\":\"\"}}}],\"scatter3d\":[{\"type\":\"scatter3d\",\"line\":{\"colorbar\":{\"outlinewidth\":0,\"ticks\":\"\"}},\"marker\":{\"colorbar\":{\"outlinewidth\":0,\"ticks\":\"\"}}}],\"scattermapbox\":[{\"type\":\"scattermapbox\",\"marker\":{\"colorbar\":{\"outlinewidth\":0,\"ticks\":\"\"}}}],\"scatterternary\":[{\"type\":\"scatterternary\",\"marker\":{\"colorbar\":{\"outlinewidth\":0,\"ticks\":\"\"}}}],\"scattercarpet\":[{\"type\":\"scattercarpet\",\"marker\":{\"colorbar\":{\"outlinewidth\":0,\"ticks\":\"\"}}}],\"carpet\":[{\"aaxis\":{\"endlinecolor\":\"#2a3f5f\",\"gridcolor\":\"white\",\"linecolor\":\"white\",\"minorgridcolor\":\"white\",\"startlinecolor\":\"#2a3f5f\"},\"baxis\":{\"endlinecolor\":\"#2a3f5f\",\"gridcolor\":\"white\",\"linecolor\":\"white\",\"minorgridcolor\":\"white\",\"startlinecolor\":\"#2a3f5f\"},\"type\":\"carpet\"}],\"table\":[{\"cells\":{\"fill\":{\"color\":\"#EBF0F8\"},\"line\":{\"color\":\"white\"}},\"header\":{\"fill\":{\"color\":\"#C8D4E3\"},\"line\":{\"color\":\"white\"}},\"type\":\"table\"}],\"barpolar\":[{\"marker\":{\"line\":{\"color\":\"#E5ECF6\",\"width\":0.5},\"pattern\":{\"fillmode\":\"overlay\",\"size\":10,\"solidity\":0.2}},\"type\":\"barpolar\"}],\"pie\":[{\"automargin\":true,\"type\":\"pie\"}]},\"layout\":{\"autotypenumbers\":\"strict\",\"colorway\":[\"#636efa\",\"#EF553B\",\"#00cc96\",\"#ab63fa\",\"#FFA15A\",\"#19d3f3\",\"#FF6692\",\"#B6E880\",\"#FF97FF\",\"#FECB52\"],\"font\":{\"color\":\"#2a3f5f\"},\"hovermode\":\"closest\",\"hoverlabel\":{\"align\":\"left\"},\"paper_bgcolor\":\"white\",\"plot_bgcolor\":\"#E5ECF6\",\"polar\":{\"bgcolor\":\"#E5ECF6\",\"angularaxis\":{\"gridcolor\":\"white\",\"linecolor\":\"white\",\"ticks\":\"\"},\"radialaxis\":{\"gridcolor\":\"white\",\"linecolor\":\"white\",\"ticks\":\"\"}},\"ternary\":{\"bgcolor\":\"#E5ECF6\",\"aaxis\":{\"gridcolor\":\"white\",\"linecolor\":\"white\",\"ticks\":\"\"},\"baxis\":{\"gridcolor\":\"white\",\"linecolor\":\"white\",\"ticks\":\"\"},\"caxis\":{\"gridcolor\":\"white\",\"linecolor\":\"white\",\"ticks\":\"\"}},\"coloraxis\":{\"colorbar\":{\"outlinewidth\":0,\"ticks\":\"\"}},\"colorscale\":{\"sequential\":[[0.0,\"#0d0887\"],[0.1111111111111111,\"#46039f\"],[0.2222222222222222,\"#7201a8\"],[0.3333333333333333,\"#9c179e\"],[0.4444444444444444,\"#bd3786\"],[0.5555555555555556,\"#d8576b\"],[0.6666666666666666,\"#ed7953\"],[0.7777777777777778,\"#fb9f3a\"],[0.8888888888888888,\"#fdca26\"],[1.0,\"#f0f921\"]],\"sequentialminus\":[[0.0,\"#0d0887\"],[0.1111111111111111,\"#46039f\"],[0.2222222222222222,\"#7201a8\"],[0.3333333333333333,\"#9c179e\"],[0.4444444444444444,\"#bd3786\"],[0.5555555555555556,\"#d8576b\"],[0.6666666666666666,\"#ed7953\"],[0.7777777777777778,\"#fb9f3a\"],[0.8888888888888888,\"#fdca26\"],[1.0,\"#f0f921\"]],\"diverging\":[[0,\"#8e0152\"],[0.1,\"#c51b7d\"],[0.2,\"#de77ae\"],[0.3,\"#f1b6da\"],[0.4,\"#fde0ef\"],[0.5,\"#f7f7f7\"],[0.6,\"#e6f5d0\"],[0.7,\"#b8e186\"],[0.8,\"#7fbc41\"],[0.9,\"#4d9221\"],[1,\"#276419\"]]},\"xaxis\":{\"gridcolor\":\"white\",\"linecolor\":\"white\",\"ticks\":\"\",\"title\":{\"standoff\":15},\"zerolinecolor\":\"white\",\"automargin\":true,\"zerolinewidth\":2},\"yaxis\":{\"gridcolor\":\"white\",\"linecolor\":\"white\",\"ticks\":\"\",\"title\":{\"standoff\":15},\"zerolinecolor\":\"white\",\"automargin\":true,\"zerolinewidth\":2},\"scene\":{\"xaxis\":{\"backgroundcolor\":\"#E5ECF6\",\"gridcolor\":\"white\",\"linecolor\":\"white\",\"showbackground\":true,\"ticks\":\"\",\"zerolinecolor\":\"white\",\"gridwidth\":2},\"yaxis\":{\"backgroundcolor\":\"#E5ECF6\",\"gridcolor\":\"white\",\"linecolor\":\"white\",\"showbackground\":true,\"ticks\":\"\",\"zerolinecolor\":\"white\",\"gridwidth\":2},\"zaxis\":{\"backgroundcolor\":\"#E5ECF6\",\"gridcolor\":\"white\",\"linecolor\":\"white\",\"showbackground\":true,\"ticks\":\"\",\"zerolinecolor\":\"white\",\"gridwidth\":2}},\"shapedefaults\":{\"line\":{\"color\":\"#2a3f5f\"}},\"annotationdefaults\":{\"arrowcolor\":\"#2a3f5f\",\"arrowhead\":0,\"arrowwidth\":1},\"geo\":{\"bgcolor\":\"white\",\"landcolor\":\"#E5ECF6\",\"subunitcolor\":\"white\",\"showland\":true,\"showlakes\":true,\"lakecolor\":\"white\"},\"title\":{\"x\":0.05},\"mapbox\":{\"style\":\"light\"}}},\"scene\":{\"domain\":{\"x\":[0.0,1.0],\"y\":[0.0,1.0]},\"xaxis\":{\"title\":{\"text\":\"0\"}},\"yaxis\":{\"title\":{\"text\":\"1\"}},\"zaxis\":{\"title\":{\"text\":\"2\"}}},\"legend\":{\"title\":{\"text\":\"color\"},\"tracegroupgap\":0},\"margin\":{\"t\":60}},                        {\"responsive\": true}                    ).then(function(){\n",
              "                            \n",
              "var gd = document.getElementById('621fdd44-72fe-4ba1-acac-c9a5e942c88f');\n",
              "var x = new MutationObserver(function (mutations, observer) {{\n",
              "        var display = window.getComputedStyle(gd).display;\n",
              "        if (!display || display === 'none') {{\n",
              "            console.log([gd, 'removed!']);\n",
              "            Plotly.purge(gd);\n",
              "            observer.disconnect();\n",
              "        }}\n",
              "}});\n",
              "\n",
              "// Listen for the removal of the full notebook cells\n",
              "var notebookContainer = gd.closest('#notebook-container');\n",
              "if (notebookContainer) {{\n",
              "    x.observe(notebookContainer, {childList: true});\n",
              "}}\n",
              "\n",
              "// Listen for the clearing of the current output cell\n",
              "var outputEl = gd.closest('.output');\n",
              "if (outputEl) {{\n",
              "    x.observe(outputEl, {childList: true});\n",
              "}}\n",
              "\n",
              "                        })                };                            </script>        </div>\n",
              "</body>\n",
              "</html>"
            ]
          },
          "metadata": {}
        }
      ]
    },
    {
      "cell_type": "code",
      "source": [],
      "metadata": {
        "id": "bb6odX9s-a7Q"
      },
      "execution_count": null,
      "outputs": []
    }
  ]
}