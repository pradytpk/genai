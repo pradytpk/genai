{
  "nbformat": 4,
  "nbformat_minor": 0,
  "metadata": {
    "colab": {
      "provenance": [],
      "authorship_tag": "ABX9TyO0x+a2AEmApSVWdUAVrrxy",
      "include_colab_link": true
    },
    "kernelspec": {
      "name": "python3",
      "display_name": "Python 3"
    },
    "language_info": {
      "name": "python"
    }
  },
  "cells": [
    {
      "cell_type": "markdown",
      "metadata": {
        "id": "view-in-github",
        "colab_type": "text"
      },
      "source": [
        "<a href=\"https://colab.research.google.com/github/pradytpk/genai/blob/master/GENAI05_Word2Vec_Custom_Training.ipynb\" target=\"_parent\"><img src=\"https://colab.research.google.com/assets/colab-badge.svg\" alt=\"Open In Colab\"/></a>"
      ]
    },
    {
      "cell_type": "markdown",
      "source": [
        "# Custom training for WordtoVector"
      ],
      "metadata": {
        "id": "UOWzvESJjv_W"
      }
    },
    {
      "cell_type": "markdown",
      "source": [
        "Data\n",
        "https://www.kaggle.com/datasets/khulasasndh/game-of-thrones-books"
      ],
      "metadata": {
        "id": "u3ULQimBj6Fh"
      }
    },
    {
      "cell_type": "code",
      "source": [
        "import pandas as pd\n",
        "import numpy as np\n",
        "import os\n",
        "import gensim\n",
        "import nltk"
      ],
      "metadata": {
        "id": "SmNIdZxTj5F_"
      },
      "execution_count": 3,
      "outputs": []
    },
    {
      "cell_type": "code",
      "execution_count": 14,
      "metadata": {
        "id": "jx9YsItRjiXU",
        "colab": {
          "base_uri": "https://localhost:8080/"
        },
        "outputId": "0e8d28e7-c22f-49b4-cb40-2b3b97aa58c0"
      },
      "outputs": [
        {
          "output_type": "stream",
          "name": "stderr",
          "text": [
            "[nltk_data] Downloading package punkt to /root/nltk_data...\n",
            "[nltk_data]   Unzipping tokenizers/punkt.zip.\n"
          ]
        },
        {
          "output_type": "execute_result",
          "data": {
            "text/plain": [
              "True"
            ]
          },
          "metadata": {},
          "execution_count": 14
        }
      ],
      "source": [
        "nltk.download('punkt')"
      ]
    },
    {
      "cell_type": "code",
      "source": [
        "from nltk import sent_tokenize\n",
        "from gensim.utils import simple_preprocess"
      ],
      "metadata": {
        "id": "JGQNg_S2lnXc"
      },
      "execution_count": 1,
      "outputs": []
    },
    {
      "cell_type": "code",
      "source": [
        "for file in os.listdir(\"/content/data\"):\n",
        "  print(file)"
      ],
      "metadata": {
        "colab": {
          "base_uri": "https://localhost:8080/"
        },
        "id": "3VguI3HfmYLO",
        "outputId": "2a2e602f-c5b9-4356-81a6-b857e19e1824"
      },
      "execution_count": 5,
      "outputs": [
        {
          "output_type": "stream",
          "name": "stdout",
          "text": [
            "005ssb.txt\n",
            "004ssb.txt\n",
            "001ssb.txt\n",
            "002ssb.txt\n",
            "003ssb.txt\n"
          ]
        }
      ]
    },
    {
      "cell_type": "code",
      "source": [
        "f=open(\"/content/data/001ssb.txt\",encoding='unicode_escape')"
      ],
      "metadata": {
        "id": "FkVu39zvmgvr"
      },
      "execution_count": 18,
      "outputs": []
    },
    {
      "cell_type": "code",
      "source": [
        "corpus=f.read()"
      ],
      "metadata": {
        "id": "u4vwCMx9mzRY"
      },
      "execution_count": 19,
      "outputs": []
    },
    {
      "cell_type": "code",
      "source": [
        "# Convert the data into tokens"
      ],
      "metadata": {
        "id": "FSGYj9zMm7k4"
      },
      "execution_count": 20,
      "outputs": []
    },
    {
      "cell_type": "code",
      "source": [
        "raw_sentences=sent_tokenize(corpus)"
      ],
      "metadata": {
        "id": "pwag7GGfnIRw"
      },
      "execution_count": 22,
      "outputs": []
    },
    {
      "cell_type": "code",
      "source": [
        "processed_sentences = []\n",
        "for sentence in raw_sentences:\n",
        "    processed_sentences.append(simple_preprocess(sentence))"
      ],
      "metadata": {
        "id": "98ChdrTmnNfA"
      },
      "execution_count": 24,
      "outputs": []
    },
    {
      "cell_type": "code",
      "source": [
        "processed_sentences"
      ],
      "metadata": {
        "id": "dayLDn1UnupN"
      },
      "execution_count": null,
      "outputs": []
    },
    {
      "cell_type": "code",
      "source": [
        "preprocessed_sentences = []\n",
        "for filename in os.listdir(\"/content/data\"):\n",
        "  file_path=os.path.join(\"/content/data/\",filename)\n",
        "  with open(file_path,encoding='unicode_escape') as f:\n",
        "    corpus = f.read()\n",
        "  raw_sentences=sent_tokenize(corpus)\n",
        "  for sentence in raw_sentences:\n",
        "    preprocessed_sentences.append(simple_preprocess(sentence))"
      ],
      "metadata": {
        "id": "-mhZg1CWn6PT"
      },
      "execution_count": 30,
      "outputs": []
    },
    {
      "cell_type": "code",
      "source": [
        "preprocessed_sentences[0]"
      ],
      "metadata": {
        "colab": {
          "base_uri": "https://localhost:8080/"
        },
        "id": "1xYhNFSDpC7S",
        "outputId": "d3c34b4c-5276-4f92-96cb-bfe05a5f1818"
      },
      "execution_count": 33,
      "outputs": [
        {
          "output_type": "execute_result",
          "data": {
            "text/plain": [
              "['george',\n",
              " 'martin',\n",
              " 'dance',\n",
              " 'with',\n",
              " 'dragons',\n",
              " 'book',\n",
              " 'five',\n",
              " 'of',\n",
              " 'song',\n",
              " 'of',\n",
              " 'ice',\n",
              " 'and',\n",
              " 'fire',\n",
              " 'dedication',\n",
              " 'this',\n",
              " 'one',\n",
              " 'is',\n",
              " 'for',\n",
              " 'my',\n",
              " 'fans',\n",
              " 'for',\n",
              " 'lodey',\n",
              " 'trebla',\n",
              " 'stego',\n",
              " 'pod',\n",
              " 'caress',\n",
              " 'yags',\n",
              " 'ray',\n",
              " 'and',\n",
              " 'mr',\n",
              " 'kate',\n",
              " 'chataya',\n",
              " 'mormont',\n",
              " 'mich',\n",
              " 'jamie',\n",
              " 'vanessa',\n",
              " 'ro',\n",
              " 'for',\n",
              " 'stubby',\n",
              " 'louise',\n",
              " 'agravaine',\n",
              " 'wert',\n",
              " 'malt',\n",
              " 'jo',\n",
              " 'mouse',\n",
              " 'telisiane',\n",
              " 'blackfyre',\n",
              " 'bronn',\n",
              " 'stone',\n",
              " 'coyote',\n",
              " 'daughter',\n",
              " 'and',\n",
              " 'the',\n",
              " 'rest',\n",
              " 'of',\n",
              " 'the',\n",
              " 'madmen',\n",
              " 'and',\n",
              " 'wild',\n",
              " 'women',\n",
              " 'of',\n",
              " 'the',\n",
              " 'brotherhood',\n",
              " 'without',\n",
              " 'banners',\n",
              " 'for',\n",
              " 'my',\n",
              " 'website',\n",
              " 'wizards',\n",
              " 'elio',\n",
              " 'and',\n",
              " 'linda',\n",
              " 'lords',\n",
              " 'of',\n",
              " 'westeros',\n",
              " 'winter',\n",
              " 'and',\n",
              " 'fabio',\n",
              " 'of',\n",
              " 'wic',\n",
              " 'and',\n",
              " 'gibbs',\n",
              " 'of',\n",
              " 'dragonstone',\n",
              " 'who',\n",
              " 'started',\n",
              " 'it',\n",
              " 'all',\n",
              " 'for',\n",
              " 'men',\n",
              " 'and',\n",
              " 'women',\n",
              " 'of',\n",
              " 'asshai',\n",
              " 'in',\n",
              " 'spain',\n",
              " 'who',\n",
              " 'sang',\n",
              " 'to',\n",
              " 'us',\n",
              " 'of',\n",
              " 'bear',\n",
              " 'and',\n",
              " 'maiden',\n",
              " 'fair',\n",
              " 'and',\n",
              " 'the',\n",
              " 'fabulous',\n",
              " 'fans',\n",
              " 'of',\n",
              " 'italy',\n",
              " 'who',\n",
              " 'gave',\n",
              " 'me',\n",
              " 'so',\n",
              " 'much',\n",
              " 'wine',\n",
              " 'for',\n",
              " 'my',\n",
              " 'readers',\n",
              " 'in',\n",
              " 'finland',\n",
              " 'germany',\n",
              " 'brazil',\n",
              " 'portugal',\n",
              " 'france',\n",
              " 'and',\n",
              " 'the',\n",
              " 'netherlands',\n",
              " 'and',\n",
              " 'all',\n",
              " 'the',\n",
              " 'other',\n",
              " 'distant',\n",
              " 'lands',\n",
              " 'where',\n",
              " 'you',\n",
              " 've',\n",
              " 'been',\n",
              " 'waiting',\n",
              " 'for',\n",
              " 'this',\n",
              " 'dance',\n",
              " 'and',\n",
              " 'for',\n",
              " 'all',\n",
              " 'the',\n",
              " 'friends',\n",
              " 'and',\n",
              " 'fans',\n",
              " 'have',\n",
              " 'yet',\n",
              " 'to',\n",
              " 'meet',\n",
              " 'thanks',\n",
              " 'for',\n",
              " 'your',\n",
              " 'patience',\n",
              " 'contents',\n",
              " 'dedication',\n",
              " 'cavil',\n",
              " 'on',\n",
              " 'chronology',\n",
              " 'prologue',\n",
              " 'tyrion',\n",
              " 'daenerys',\n",
              " 'jon',\n",
              " 'bran',\n",
              " 'tyrion',\n",
              " 'the',\n",
              " 'merchant',\n",
              " 'man',\n",
              " 'jon',\n",
              " 'tyrion',\n",
              " 'davos',\n",
              " 'jon',\n",
              " 'daenerys',\n",
              " 'reek',\n",
              " 'bran',\n",
              " 'tyrion',\n",
              " 'davos',\n",
              " 'daenerys',\n",
              " 'jon',\n",
              " 'tyrion',\n",
              " 'davos',\n",
              " 'reek',\n",
              " 'jon',\n",
              " 'tyrion',\n",
              " 'daenerys',\n",
              " 'the',\n",
              " 'lost',\n",
              " 'lord',\n",
              " 'the',\n",
              " 'windblown',\n",
              " 'the',\n",
              " 'wayward',\n",
              " 'bride',\n",
              " 'tyrion',\n",
              " 'jon',\n",
              " 'davos',\n",
              " 'daenerys',\n",
              " 'melisandre',\n",
              " 'reek',\n",
              " 'tyrion',\n",
              " 'bran',\n",
              " 'jon',\n",
              " 'daenerys',\n",
              " 'the',\n",
              " 'prince',\n",
              " 'of',\n",
              " 'winterfell',\n",
              " 'the',\n",
              " 'watcher',\n",
              " 'jon',\n",
              " 'tyrion',\n",
              " 'the',\n",
              " 'turncloak',\n",
              " 'the',\n",
              " 'king',\n",
              " 'prize',\n",
              " 'daenerys',\n",
              " 'jon',\n",
              " 'the',\n",
              " 'blind',\n",
              " 'girl',\n",
              " 'ghost',\n",
              " 'in',\n",
              " 'winterfell',\n",
              " 'tyrion',\n",
              " 'jaime',\n",
              " 'jon',\n",
              " 'daenerys',\n",
              " 'theon',\n",
              " 'daenerys',\n",
              " 'jon',\n",
              " 'cersei',\n",
              " 'the',\n",
              " 'queensguard',\n",
              " 'the',\n",
              " 'iron',\n",
              " 'suitor',\n",
              " 'tyrion',\n",
              " 'jon',\n",
              " 'the',\n",
              " 'discarded',\n",
              " 'knight',\n",
              " 'the',\n",
              " 'spurned',\n",
              " 'suitor',\n",
              " 'the',\n",
              " 'griffin',\n",
              " 'reborn',\n",
              " 'the',\n",
              " 'sacrifice',\n",
              " 'victarion',\n",
              " 'the',\n",
              " 'ugly',\n",
              " 'little',\n",
              " 'girl',\n",
              " 'cersei',\n",
              " 'tyrion',\n",
              " 'the',\n",
              " 'kingbreaker',\n",
              " 'the',\n",
              " 'dragontamer',\n",
              " 'jon',\n",
              " 'the',\n",
              " 'queen',\n",
              " 'hand',\n",
              " 'daenerys',\n",
              " 'epilogue',\n",
              " 'westeros',\n",
              " 'the',\n",
              " 'boy',\n",
              " 'king',\n",
              " 'the',\n",
              " 'king',\n",
              " 'at',\n",
              " 'the',\n",
              " 'wall',\n",
              " 'king',\n",
              " 'of',\n",
              " 'the',\n",
              " 'isles',\n",
              " 'and',\n",
              " 'the',\n",
              " 'north',\n",
              " 'other',\n",
              " 'houses',\n",
              " 'great',\n",
              " 'and',\n",
              " 'small',\n",
              " 'house',\n",
              " 'arryn',\n",
              " 'house',\n",
              " 'baratheon',\n",
              " 'house',\n",
              " 'frey',\n",
              " 'house',\n",
              " 'lannister',\n",
              " 'house',\n",
              " 'martell',\n",
              " 'house',\n",
              " 'stark',\n",
              " 'house',\n",
              " 'tully',\n",
              " 'house',\n",
              " 'tyrell',\n",
              " 'the',\n",
              " 'sworn',\n",
              " 'brothers',\n",
              " 'of',\n",
              " 'the',\n",
              " 'night',\n",
              " 'watch',\n",
              " 'the',\n",
              " 'wildlings',\n",
              " 'or',\n",
              " 'the',\n",
              " 'free',\n",
              " 'folk',\n",
              " 'beyond',\n",
              " 'the',\n",
              " 'wall',\n",
              " 'essos',\n",
              " 'beyond',\n",
              " 'the',\n",
              " 'narrow',\n",
              " 'sea',\n",
              " 'in',\n",
              " 'braavos',\n",
              " 'in',\n",
              " 'old',\n",
              " 'volantis',\n",
              " 'on',\n",
              " 'slaver',\n",
              " 'bay',\n",
              " 'the',\n",
              " 'queen',\n",
              " 'across',\n",
              " 'the',\n",
              " 'water',\n",
              " 'the',\n",
              " 'sellswords',\n",
              " 'men',\n",
              " 'and',\n",
              " 'women',\n",
              " 'of',\n",
              " 'the',\n",
              " 'free',\n",
              " 'companies',\n",
              " 'acknowledgments',\n",
              " 'about',\n",
              " 'the',\n",
              " 'author',\n",
              " 'about',\n",
              " 'the',\n",
              " 'type',\n",
              " 'by',\n",
              " 'george',\n",
              " 'martin',\n",
              " 'copyright',\n",
              " 'cavil',\n",
              " 'on',\n",
              " 'chronology',\n",
              " 'it',\n",
              " 'has',\n",
              " 'been',\n",
              " 'while',\n",
              " 'between',\n",
              " 'books',\n",
              " 'know']"
            ]
          },
          "metadata": {},
          "execution_count": 33
        }
      ]
    },
    {
      "cell_type": "code",
      "source": [
        "len(preprocessed_sentences)"
      ],
      "metadata": {
        "colab": {
          "base_uri": "https://localhost:8080/"
        },
        "id": "wA88PlgsptxC",
        "outputId": "51d36606-22d8-4064-cfc7-5459f93037c5"
      },
      "execution_count": 32,
      "outputs": [
        {
          "output_type": "execute_result",
          "data": {
            "text/plain": [
              "145020"
            ]
          },
          "metadata": {},
          "execution_count": 32
        }
      ]
    },
    {
      "cell_type": "code",
      "source": [
        "model = gensim.models.Word2Vec(window=10,min_count=5,vector_size=150)"
      ],
      "metadata": {
        "id": "lQM2N0Rup5J5"
      },
      "execution_count": 42,
      "outputs": []
    },
    {
      "cell_type": "code",
      "source": [
        "model.build_vocab(preprocessed_sentences)"
      ],
      "metadata": {
        "id": "KeydXmgwx0-f"
      },
      "execution_count": 47,
      "outputs": []
    },
    {
      "cell_type": "code",
      "source": [
        "model.epochs"
      ],
      "metadata": {
        "colab": {
          "base_uri": "https://localhost:8080/"
        },
        "id": "kYb3D6_usMFs",
        "outputId": "2f3c2790-1be8-4f6f-f7b7-d4ed72bcd940"
      },
      "execution_count": 48,
      "outputs": [
        {
          "output_type": "execute_result",
          "data": {
            "text/plain": [
              "5"
            ]
          },
          "metadata": {},
          "execution_count": 48
        }
      ]
    },
    {
      "cell_type": "code",
      "source": [
        "model.corpus_total_words"
      ],
      "metadata": {
        "id": "6DNxhsGawjfH",
        "outputId": "ce5df0f1-9413-48af-85cc-9740b0362817",
        "colab": {
          "base_uri": "https://localhost:8080/"
        }
      },
      "execution_count": 49,
      "outputs": [
        {
          "output_type": "execute_result",
          "data": {
            "text/plain": [
              "1725638"
            ]
          },
          "metadata": {},
          "execution_count": 49
        }
      ]
    },
    {
      "cell_type": "code",
      "source": [
        "model.min_count"
      ],
      "metadata": {
        "id": "bTHiRcvewp0A",
        "outputId": "a833de83-b8bd-4703-cc3c-b1403b2e8bb2",
        "colab": {
          "base_uri": "https://localhost:8080/"
        }
      },
      "execution_count": 50,
      "outputs": [
        {
          "output_type": "execute_result",
          "data": {
            "text/plain": [
              "5"
            ]
          },
          "metadata": {},
          "execution_count": 50
        }
      ]
    },
    {
      "cell_type": "code",
      "source": [
        "model.train(preprocessed_sentences,total_examples=model.corpus_count,epochs=model.epochs)"
      ],
      "metadata": {
        "id": "PrK8As8hxGqf",
        "outputId": "e0fbd217-a32a-453b-abf8-fad25b5ac9a5",
        "colab": {
          "base_uri": "https://localhost:8080/"
        }
      },
      "execution_count": 51,
      "outputs": [
        {
          "output_type": "execute_result",
          "data": {
            "text/plain": [
              "(6484701, 8628190)"
            ]
          },
          "metadata": {},
          "execution_count": 51
        }
      ]
    },
    {
      "cell_type": "code",
      "source": [
        "model.wv.most_similar(\"king\")"
      ],
      "metadata": {
        "id": "5BDknvHfx-VB",
        "outputId": "417765ae-9762-46f5-ea56-afa52b256cf7",
        "colab": {
          "base_uri": "https://localhost:8080/"
        }
      },
      "execution_count": 52,
      "outputs": [
        {
          "output_type": "execute_result",
          "data": {
            "text/plain": [
              "[('prince', 0.6651734709739685),\n",
              " ('baratheon', 0.6596537828445435),\n",
              " ('realm', 0.6583049297332764),\n",
              " ('throne', 0.6287585496902466),\n",
              " ('victory', 0.5916072726249695),\n",
              " ('usurper', 0.5774223804473877),\n",
              " ('battle', 0.5767452716827393),\n",
              " ('council', 0.5684552788734436),\n",
              " ('targaryen', 0.5618156790733337),\n",
              " ('traitor', 0.5586431622505188)]"
            ]
          },
          "metadata": {},
          "execution_count": 52
        }
      ]
    },
    {
      "cell_type": "code",
      "source": [
        "model.wv[\"king\"]"
      ],
      "metadata": {
        "id": "fFEovKNRxp9S"
      },
      "execution_count": null,
      "outputs": []
    },
    {
      "cell_type": "code",
      "source": [
        "model.wv.most_similar(\"daenerys\")"
      ],
      "metadata": {
        "id": "0wIupygSygl4",
        "outputId": "77621203-46b2-4837-d1f0-a3be0d3f1ff1",
        "colab": {
          "base_uri": "https://localhost:8080/"
        }
      },
      "execution_count": 53,
      "outputs": [
        {
          "output_type": "execute_result",
          "data": {
            "text/plain": [
              "[('stormborn', 0.8289720416069031),\n",
              " ('queen', 0.7312886714935303),\n",
              " ('targaryen', 0.7119380831718445),\n",
              " ('unburnt', 0.7085464596748352),\n",
              " ('princess', 0.705463171005249),\n",
              " ('myrcella', 0.6774429082870483),\n",
              " ('elia', 0.6578168869018555),\n",
              " ('margaery', 0.6295678615570068),\n",
              " ('viserys', 0.6247549057006836),\n",
              " ('khaleesi', 0.624172031879425)]"
            ]
          },
          "metadata": {},
          "execution_count": 53
        }
      ]
    },
    {
      "cell_type": "code",
      "source": [
        "model.wv.most_similar(\"dragon\")"
      ],
      "metadata": {
        "id": "ia5aLjLyymUa",
        "outputId": "5276aa5b-763b-4537-eb32-866b97502b25",
        "colab": {
          "base_uri": "https://localhost:8080/"
        }
      },
      "execution_count": 55,
      "outputs": [
        {
          "output_type": "execute_result",
          "data": {
            "text/plain": [
              "[('valyria', 0.5933955907821655),\n",
              " ('star', 0.5817232728004456),\n",
              " ('fortress', 0.578070342540741),\n",
              " ('dragons', 0.5649496912956238),\n",
              " ('crone', 0.5619562268257141),\n",
              " ('comet', 0.5593140125274658),\n",
              " ('westeros', 0.5534182786941528),\n",
              " ('astapor', 0.5520880222320557),\n",
              " ('dynasty', 0.5505040287971497),\n",
              " ('veins', 0.5479201674461365)]"
            ]
          },
          "metadata": {},
          "execution_count": 55
        }
      ]
    },
    {
      "cell_type": "code",
      "source": [
        "model.wv.most_similar(\"dog\")"
      ],
      "metadata": {
        "id": "8OI3-QF_yrk6",
        "outputId": "11f388b6-5688-4147-e24f-688df13fe150",
        "colab": {
          "base_uri": "https://localhost:8080/"
        }
      },
      "execution_count": 58,
      "outputs": [
        {
          "output_type": "execute_result",
          "data": {
            "text/plain": [
              "[('rat', 0.6972994208335876),\n",
              " ('rorge', 0.6596587896347046),\n",
              " ('duck', 0.6496390700340271),\n",
              " ('pig', 0.6433452367782593),\n",
              " ('boot', 0.6300278902053833),\n",
              " ('shagga', 0.6114288568496704),\n",
              " ('whip', 0.5999821424484253),\n",
              " ('beast', 0.5972452163696289),\n",
              " ('snap', 0.5923657417297363),\n",
              " ('knife', 0.5863524079322815)]"
            ]
          },
          "metadata": {},
          "execution_count": 58
        }
      ]
    },
    {
      "cell_type": "code",
      "source": [
        "model.wv.doesnt_match(['jon','rikon'])"
      ],
      "metadata": {
        "id": "xlAidjB5zGdo",
        "outputId": "73fd1161-3472-483c-d690-6eddee041460",
        "colab": {
          "base_uri": "https://localhost:8080/",
          "height": 53
        }
      },
      "execution_count": 60,
      "outputs": [
        {
          "output_type": "stream",
          "name": "stderr",
          "text": [
            "WARNING:gensim.models.keyedvectors:vectors for words {'rikon'} are not present in the model, ignoring these words\n"
          ]
        },
        {
          "output_type": "execute_result",
          "data": {
            "text/plain": [
              "'jon'"
            ],
            "application/vnd.google.colaboratory.intrinsic+json": {
              "type": "string"
            }
          },
          "metadata": {},
          "execution_count": 60
        }
      ]
    },
    {
      "cell_type": "code",
      "source": [
        "model.wv.get_normed_vectors().shape"
      ],
      "metadata": {
        "id": "yJIyJEXz0Xgr",
        "outputId": "1cd31ce5-0b42-4be0-d3e2-70f68e5a5d0e",
        "colab": {
          "base_uri": "https://localhost:8080/"
        }
      },
      "execution_count": 63,
      "outputs": [
        {
          "output_type": "execute_result",
          "data": {
            "text/plain": [
              "(11760, 150)"
            ]
          },
          "metadata": {},
          "execution_count": 63
        }
      ]
    },
    {
      "cell_type": "code",
      "source": [
        "model.wv.index_to_key"
      ],
      "metadata": {
        "id": "X6zO3rol0u4v"
      },
      "execution_count": null,
      "outputs": []
    },
    {
      "cell_type": "code",
      "source": [
        "len(model.wv.index_to_key)"
      ],
      "metadata": {
        "id": "nBfUuRBE01Nm",
        "outputId": "4a1c42d4-2b57-447f-fdea-dbf26ef59f99",
        "colab": {
          "base_uri": "https://localhost:8080/"
        }
      },
      "execution_count": 66,
      "outputs": [
        {
          "output_type": "execute_result",
          "data": {
            "text/plain": [
              "11760"
            ]
          },
          "metadata": {},
          "execution_count": 66
        }
      ]
    },
    {
      "cell_type": "code",
      "source": [
        "model.wv.index_to_key[0]"
      ],
      "metadata": {
        "id": "6MgXqW9o07GX",
        "outputId": "939ced8d-b5ee-4514-f323-0d3826950d63",
        "colab": {
          "base_uri": "https://localhost:8080/",
          "height": 35
        }
      },
      "execution_count": 67,
      "outputs": [
        {
          "output_type": "execute_result",
          "data": {
            "text/plain": [
              "'the'"
            ],
            "application/vnd.google.colaboratory.intrinsic+json": {
              "type": "string"
            }
          },
          "metadata": {},
          "execution_count": 67
        }
      ]
    },
    {
      "cell_type": "code",
      "source": [
        "model.save(\"/content/data/word2vec.model\")"
      ],
      "metadata": {
        "id": "NZ8BYpy91LcO"
      },
      "execution_count": 68,
      "outputs": []
    },
    {
      "cell_type": "code",
      "source": [
        "model.save(\"/content/data/word2vec.bin\")"
      ],
      "metadata": {
        "id": "owt3G7PL1qko"
      },
      "execution_count": 69,
      "outputs": []
    },
    {
      "cell_type": "code",
      "source": [
        "# !gzip word2vec.bin > word2vec.bin.gz"
      ],
      "metadata": {
        "id": "56-y_mhi1wHY",
        "outputId": "1179d633-e39e-4030-ca67-35be8a42ec07",
        "colab": {
          "base_uri": "https://localhost:8080/"
        }
      },
      "execution_count": 71,
      "outputs": [
        {
          "output_type": "stream",
          "name": "stdout",
          "text": [
            "gzip: word2vec.bin: No such file or directory\n"
          ]
        }
      ]
    }
  ]
}