{
  "nbformat": 4,
  "nbformat_minor": 0,
  "metadata": {
    "colab": {
      "provenance": [],
      "authorship_tag": "ABX9TyMHW06+hYvTeTJpIrmVItIz",
      "include_colab_link": true
    },
    "kernelspec": {
      "name": "python3",
      "display_name": "Python 3"
    },
    "language_info": {
      "name": "python"
    }
  },
  "cells": [
    {
      "cell_type": "markdown",
      "metadata": {
        "id": "view-in-github",
        "colab_type": "text"
      },
      "source": [
        "<a href=\"https://colab.research.google.com/github/pradytpk/genai/blob/master/GENAI05_Word2Vec_Custom_Training.ipynb\" target=\"_parent\"><img src=\"https://colab.research.google.com/assets/colab-badge.svg\" alt=\"Open In Colab\"/></a>"
      ]
    },
    {
      "cell_type": "markdown",
      "source": [
        "# Custom training for WordtoVector"
      ],
      "metadata": {
        "id": "UOWzvESJjv_W"
      }
    },
    {
      "cell_type": "markdown",
      "source": [
        "Data\n",
        "https://www.kaggle.com/datasets/khulasasndh/game-of-thrones-books"
      ],
      "metadata": {
        "id": "u3ULQimBj6Fh"
      }
    },
    {
      "cell_type": "code",
      "source": [
        "import pandas as pd\n",
        "import numpy as np\n",
        "import os\n",
        "import gensim\n",
        "import nltk"
      ],
      "metadata": {
        "id": "SmNIdZxTj5F_"
      },
      "execution_count": 1,
      "outputs": []
    },
    {
      "cell_type": "code",
      "execution_count": null,
      "metadata": {
        "id": "jx9YsItRjiXU"
      },
      "outputs": [],
      "source": []
    }
  ]
}