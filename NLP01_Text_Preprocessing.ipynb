{
  "nbformat": 4,
  "nbformat_minor": 0,
  "metadata": {
    "colab": {
      "provenance": [],
      "toc_visible": true,
      "authorship_tag": "ABX9TyO8gl/m+RvcLMWsQkbm0WAO",
      "include_colab_link": true
    },
    "kernelspec": {
      "name": "python3",
      "display_name": "Python 3"
    },
    "language_info": {
      "name": "python"
    }
  },
  "cells": [
    {
      "cell_type": "markdown",
      "metadata": {
        "id": "view-in-github",
        "colab_type": "text"
      },
      "source": [
        "<a href=\"https://colab.research.google.com/github/pradytpk/genai/blob/master/NLP01_Text_Preprocessing.ipynb\" target=\"_parent\"><img src=\"https://colab.research.google.com/assets/colab-badge.svg\" alt=\"Open In Colab\"/></a>"
      ]
    },
    {
      "cell_type": "code",
      "execution_count": 1,
      "metadata": {
        "id": "MKCzzXDSxVRn"
      },
      "outputs": [],
      "source": [
        "#!pip install nltk"
      ]
    },
    {
      "cell_type": "code",
      "source": [
        "paragraph=\"\"\"Narendra Damodardas Modi (Gujarati: [ˈnəɾendɾə dɑmodəɾˈdɑs ˈmodiː] ⓘ; born 17 September 1950)[b] is an Indian politician who has served as the 14th prime minister of India since May 2014. Modi was the chief minister of Gujarat from 2001 to 2014 and is the Member of Parliament (MP) for Varanasi. He is a member of the Bharatiya Janata Party (BJP) and of the Rashtriya Swayamsevak Sangh (RSS), a right wing Hindu nationalist paramilitary volunteer organisation. He is the longest-serving prime minister from outside the Indian National Congress.\n",
        "\n",
        "Modi was born and raised in Vadnagar in northeastern Gujarat, where he completed his secondary education. He was introduced to the RSS at the age of eight. His account of helping his father sell tea at the Vadnagar railway station has not been reliably corroborated. At age 18, he was married to Jashodaben Modi, whom he abandoned soon after, only publicly acknowledging her four decades later when legally required to do so. Modi became a full-time worker for the RSS in Gujarat in 1971. The RSS assigned him to the BJP in 1985 and he held several positions within the party hierarchy until 2001, rising to the rank of general secretary.[c]\"\"\""
      ],
      "metadata": {
        "id": "pdCuBXyvyNEJ"
      },
      "execution_count": 2,
      "outputs": []
    },
    {
      "cell_type": "code",
      "source": [
        "paragraph"
      ],
      "metadata": {
        "id": "GcAKi2dHyZh_",
        "outputId": "faf0467f-595d-4da0-9776-a7f0e38c90bd",
        "colab": {
          "base_uri": "https://localhost:8080/",
          "height": 122
        }
      },
      "execution_count": 3,
      "outputs": [
        {
          "output_type": "execute_result",
          "data": {
            "text/plain": [
              "'Narendra Damodardas Modi (Gujarati: [ˈnəɾendɾə dɑmodəɾˈdɑs ˈmodiː] ⓘ; born 17 September 1950)[b] is an Indian politician who has served as the 14th prime minister of India since May 2014. Modi was the chief minister of Gujarat from 2001 to 2014 and is the Member of Parliament (MP) for Varanasi. He is a member of the Bharatiya Janata Party (BJP) and of the Rashtriya Swayamsevak Sangh (RSS), a right wing Hindu nationalist paramilitary volunteer organisation. He is the longest-serving prime minister from outside the Indian National Congress.\\n\\nModi was born and raised in Vadnagar in northeastern Gujarat, where he completed his secondary education. He was introduced to the RSS at the age of eight. His account of helping his father sell tea at the Vadnagar railway station has not been reliably corroborated. At age 18, he was married to Jashodaben Modi, whom he abandoned soon after, only publicly acknowledging her four decades later when legally required to do so. Modi became a full-time worker for the RSS in Gujarat in 1971. The RSS assigned him to the BJP in 1985 and he held several positions within the party hierarchy until 2001, rising to the rank of general secretary.[c]'"
            ],
            "application/vnd.google.colaboratory.intrinsic+json": {
              "type": "string"
            }
          },
          "metadata": {},
          "execution_count": 3
        }
      ]
    },
    {
      "cell_type": "code",
      "source": [
        "import nltk\n",
        "from nltk.stem import PorterStemmer\n",
        "from nltk.corpus import stopwords"
      ],
      "metadata": {
        "id": "-km5KEYGyfnD"
      },
      "execution_count": 4,
      "outputs": []
    },
    {
      "cell_type": "markdown",
      "source": [
        "## Tokenization\n",
        "- converts paragraph into sentences & words"
      ],
      "metadata": {
        "id": "NQXeQJGzyt79"
      }
    },
    {
      "cell_type": "code",
      "source": [
        "nltk.download('punkt')\n",
        "sentences=nltk.sent_tokenize(paragraph)"
      ],
      "metadata": {
        "id": "64ahDNnRyrqM",
        "outputId": "36dc82e1-8eb2-49e2-def3-7306f8f3b073",
        "colab": {
          "base_uri": "https://localhost:8080/"
        }
      },
      "execution_count": 5,
      "outputs": [
        {
          "output_type": "stream",
          "name": "stderr",
          "text": [
            "[nltk_data] Downloading package punkt to /root/nltk_data...\n",
            "[nltk_data]   Unzipping tokenizers/punkt.zip.\n"
          ]
        }
      ]
    },
    {
      "cell_type": "code",
      "source": [
        "sentences"
      ],
      "metadata": {
        "id": "9LIexpTdzrmy",
        "outputId": "74cb3a1e-f816-47a3-bd39-e371c5b34e3f",
        "colab": {
          "base_uri": "https://localhost:8080/"
        }
      },
      "execution_count": 6,
      "outputs": [
        {
          "output_type": "execute_result",
          "data": {
            "text/plain": [
              "['Narendra Damodardas Modi (Gujarati: [ˈnəɾendɾə dɑmodəɾˈdɑs ˈmodiː] ⓘ; born 17 September 1950)[b] is an Indian politician who has served as the 14th prime minister of India since May 2014.',\n",
              " 'Modi was the chief minister of Gujarat from 2001 to 2014 and is the Member of Parliament (MP) for Varanasi.',\n",
              " 'He is a member of the Bharatiya Janata Party (BJP) and of the Rashtriya Swayamsevak Sangh (RSS), a right wing Hindu nationalist paramilitary volunteer organisation.',\n",
              " 'He is the longest-serving prime minister from outside the Indian National Congress.',\n",
              " 'Modi was born and raised in Vadnagar in northeastern Gujarat, where he completed his secondary education.',\n",
              " 'He was introduced to the RSS at the age of eight.',\n",
              " 'His account of helping his father sell tea at the Vadnagar railway station has not been reliably corroborated.',\n",
              " 'At age 18, he was married to Jashodaben Modi, whom he abandoned soon after, only publicly acknowledging her four decades later when legally required to do so.',\n",
              " 'Modi became a full-time worker for the RSS in Gujarat in 1971.',\n",
              " 'The RSS assigned him to the BJP in 1985 and he held several positions within the party hierarchy until 2001, rising to the rank of general secretary.',\n",
              " '[c]']"
            ]
          },
          "metadata": {},
          "execution_count": 6
        }
      ]
    },
    {
      "cell_type": "code",
      "source": [
        "sentences[0]"
      ],
      "metadata": {
        "id": "KglSWUnHztBl",
        "outputId": "8f49dfb5-e9c3-44d7-e9f2-55ab644b2c04",
        "colab": {
          "base_uri": "https://localhost:8080/",
          "height": 35
        }
      },
      "execution_count": 7,
      "outputs": [
        {
          "output_type": "execute_result",
          "data": {
            "text/plain": [
              "'Narendra Damodardas Modi (Gujarati: [ˈnəɾendɾə dɑmodəɾˈdɑs ˈmodiː] ⓘ; born 17 September 1950)[b] is an Indian politician who has served as the 14th prime minister of India since May 2014.'"
            ],
            "application/vnd.google.colaboratory.intrinsic+json": {
              "type": "string"
            }
          },
          "metadata": {},
          "execution_count": 7
        }
      ]
    },
    {
      "cell_type": "markdown",
      "source": [
        "## Stemming"
      ],
      "metadata": {
        "id": "5rRPl0vcz4MX"
      }
    },
    {
      "cell_type": "code",
      "source": [
        "stemmer = PorterStemmer()"
      ],
      "metadata": {
        "id": "hzo1PV-azynE"
      },
      "execution_count": 8,
      "outputs": []
    },
    {
      "cell_type": "code",
      "source": [
        "stemmer.stem('history')"
      ],
      "metadata": {
        "id": "srwu1PeJz3RL",
        "outputId": "1c11bca9-08c1-42d4-e79e-a48ccc7598b8",
        "colab": {
          "base_uri": "https://localhost:8080/",
          "height": 35
        }
      },
      "execution_count": 9,
      "outputs": [
        {
          "output_type": "execute_result",
          "data": {
            "text/plain": [
              "'histori'"
            ],
            "application/vnd.google.colaboratory.intrinsic+json": {
              "type": "string"
            }
          },
          "metadata": {},
          "execution_count": 9
        }
      ]
    },
    {
      "cell_type": "code",
      "source": [
        "from nltk.stem import WordNetLemmatizer"
      ],
      "metadata": {
        "id": "f1FCfCmv0Bg_"
      },
      "execution_count": 10,
      "outputs": []
    },
    {
      "cell_type": "code",
      "source": [
        "lemmatizer = WordNetLemmatizer()"
      ],
      "metadata": {
        "id": "wNBsaAmL0JmR"
      },
      "execution_count": 11,
      "outputs": []
    },
    {
      "cell_type": "code",
      "source": [
        "nltk.download('wordnet')"
      ],
      "metadata": {
        "id": "_D8M8lWy0V4k",
        "outputId": "c0f30b04-5690-47fd-e6ce-3397f4ea5787",
        "colab": {
          "base_uri": "https://localhost:8080/"
        }
      },
      "execution_count": 12,
      "outputs": [
        {
          "output_type": "stream",
          "name": "stderr",
          "text": [
            "[nltk_data] Downloading package wordnet to /root/nltk_data...\n"
          ]
        },
        {
          "output_type": "execute_result",
          "data": {
            "text/plain": [
              "True"
            ]
          },
          "metadata": {},
          "execution_count": 12
        }
      ]
    },
    {
      "cell_type": "code",
      "source": [
        "lemmatizer.lemmatize('Historical')"
      ],
      "metadata": {
        "id": "fOQqmmas0ODc",
        "outputId": "e4a9b2f5-d0ab-484f-ff8c-aa1f8f05f7f5",
        "colab": {
          "base_uri": "https://localhost:8080/",
          "height": 35
        }
      },
      "execution_count": 13,
      "outputs": [
        {
          "output_type": "execute_result",
          "data": {
            "text/plain": [
              "'Historical'"
            ],
            "application/vnd.google.colaboratory.intrinsic+json": {
              "type": "string"
            }
          },
          "metadata": {},
          "execution_count": 13
        }
      ]
    },
    {
      "cell_type": "code",
      "source": [
        "lemmatizer.lemmatize('日本')"
      ],
      "metadata": {
        "id": "gRSjKsKd0TcO",
        "outputId": "d5f88f63-e30c-4645-dbd7-58a9e2025e94",
        "colab": {
          "base_uri": "https://localhost:8080/",
          "height": 35
        }
      },
      "execution_count": 14,
      "outputs": [
        {
          "output_type": "execute_result",
          "data": {
            "text/plain": [
              "'日本'"
            ],
            "application/vnd.google.colaboratory.intrinsic+json": {
              "type": "string"
            }
          },
          "metadata": {},
          "execution_count": 14
        }
      ]
    },
    {
      "cell_type": "code",
      "source": [
        "lemmatizer.lemmatize('goes')"
      ],
      "metadata": {
        "id": "UEDW4Jv50jkw",
        "outputId": "15769f84-19e5-4539-a488-350b7cca4bf6",
        "colab": {
          "base_uri": "https://localhost:8080/",
          "height": 35
        }
      },
      "execution_count": 15,
      "outputs": [
        {
          "output_type": "execute_result",
          "data": {
            "text/plain": [
              "'go'"
            ],
            "application/vnd.google.colaboratory.intrinsic+json": {
              "type": "string"
            }
          },
          "metadata": {},
          "execution_count": 15
        }
      ]
    },
    {
      "cell_type": "code",
      "source": [
        "import re\n",
        "corpus =[]\n",
        "for i in range(len(sentences)):\n",
        "  review = re.sub('[^a-zA-Z]',' ',sentences[i])\n",
        "  review=review.lower()\n",
        "  corpus.append(review)\n",
        "corpus"
      ],
      "metadata": {
        "id": "FcwcM_xI0maY",
        "outputId": "881dc2ac-2d42-49b6-b5f6-e85a218d0664",
        "colab": {
          "base_uri": "https://localhost:8080/"
        }
      },
      "execution_count": 16,
      "outputs": [
        {
          "output_type": "execute_result",
          "data": {
            "text/plain": [
              "['narendra damodardas modi  gujarati    n  end   d mod   d s  modi      born    september       b  is an indian politician who has served as the   th prime minister of india since may      ',\n",
              " 'modi was the chief minister of gujarat from      to      and is the member of parliament  mp  for varanasi ',\n",
              " 'he is a member of the bharatiya janata party  bjp  and of the rashtriya swayamsevak sangh  rss   a right wing hindu nationalist paramilitary volunteer organisation ',\n",
              " 'he is the longest serving prime minister from outside the indian national congress ',\n",
              " 'modi was born and raised in vadnagar in northeastern gujarat  where he completed his secondary education ',\n",
              " 'he was introduced to the rss at the age of eight ',\n",
              " 'his account of helping his father sell tea at the vadnagar railway station has not been reliably corroborated ',\n",
              " 'at age     he was married to jashodaben modi  whom he abandoned soon after  only publicly acknowledging her four decades later when legally required to do so ',\n",
              " 'modi became a full time worker for the rss in gujarat in      ',\n",
              " 'the rss assigned him to the bjp in      and he held several positions within the party hierarchy until       rising to the rank of general secretary ',\n",
              " ' c ']"
            ]
          },
          "metadata": {},
          "execution_count": 16
        }
      ]
    },
    {
      "cell_type": "code",
      "source": [
        "nltk.download('stopwords')"
      ],
      "metadata": {
        "id": "iN63ZHLy2aEv",
        "outputId": "ad43dec8-1f01-4d55-fcf2-61eb3f11bee5",
        "colab": {
          "base_uri": "https://localhost:8080/"
        }
      },
      "execution_count": 17,
      "outputs": [
        {
          "output_type": "stream",
          "name": "stderr",
          "text": [
            "[nltk_data] Downloading package stopwords to /root/nltk_data...\n",
            "[nltk_data]   Unzipping corpora/stopwords.zip.\n"
          ]
        },
        {
          "output_type": "execute_result",
          "data": {
            "text/plain": [
              "True"
            ]
          },
          "metadata": {},
          "execution_count": 17
        }
      ]
    },
    {
      "cell_type": "code",
      "source": [
        "stopwords.words('english')"
      ],
      "metadata": {
        "id": "yKOo4viG2hmR",
        "outputId": "ec5572b3-20f3-4a4a-be77-78cc0649e0c2",
        "colab": {
          "base_uri": "https://localhost:8080/"
        }
      },
      "execution_count": 18,
      "outputs": [
        {
          "output_type": "execute_result",
          "data": {
            "text/plain": [
              "['i',\n",
              " 'me',\n",
              " 'my',\n",
              " 'myself',\n",
              " 'we',\n",
              " 'our',\n",
              " 'ours',\n",
              " 'ourselves',\n",
              " 'you',\n",
              " \"you're\",\n",
              " \"you've\",\n",
              " \"you'll\",\n",
              " \"you'd\",\n",
              " 'your',\n",
              " 'yours',\n",
              " 'yourself',\n",
              " 'yourselves',\n",
              " 'he',\n",
              " 'him',\n",
              " 'his',\n",
              " 'himself',\n",
              " 'she',\n",
              " \"she's\",\n",
              " 'her',\n",
              " 'hers',\n",
              " 'herself',\n",
              " 'it',\n",
              " \"it's\",\n",
              " 'its',\n",
              " 'itself',\n",
              " 'they',\n",
              " 'them',\n",
              " 'their',\n",
              " 'theirs',\n",
              " 'themselves',\n",
              " 'what',\n",
              " 'which',\n",
              " 'who',\n",
              " 'whom',\n",
              " 'this',\n",
              " 'that',\n",
              " \"that'll\",\n",
              " 'these',\n",
              " 'those',\n",
              " 'am',\n",
              " 'is',\n",
              " 'are',\n",
              " 'was',\n",
              " 'were',\n",
              " 'be',\n",
              " 'been',\n",
              " 'being',\n",
              " 'have',\n",
              " 'has',\n",
              " 'had',\n",
              " 'having',\n",
              " 'do',\n",
              " 'does',\n",
              " 'did',\n",
              " 'doing',\n",
              " 'a',\n",
              " 'an',\n",
              " 'the',\n",
              " 'and',\n",
              " 'but',\n",
              " 'if',\n",
              " 'or',\n",
              " 'because',\n",
              " 'as',\n",
              " 'until',\n",
              " 'while',\n",
              " 'of',\n",
              " 'at',\n",
              " 'by',\n",
              " 'for',\n",
              " 'with',\n",
              " 'about',\n",
              " 'against',\n",
              " 'between',\n",
              " 'into',\n",
              " 'through',\n",
              " 'during',\n",
              " 'before',\n",
              " 'after',\n",
              " 'above',\n",
              " 'below',\n",
              " 'to',\n",
              " 'from',\n",
              " 'up',\n",
              " 'down',\n",
              " 'in',\n",
              " 'out',\n",
              " 'on',\n",
              " 'off',\n",
              " 'over',\n",
              " 'under',\n",
              " 'again',\n",
              " 'further',\n",
              " 'then',\n",
              " 'once',\n",
              " 'here',\n",
              " 'there',\n",
              " 'when',\n",
              " 'where',\n",
              " 'why',\n",
              " 'how',\n",
              " 'all',\n",
              " 'any',\n",
              " 'both',\n",
              " 'each',\n",
              " 'few',\n",
              " 'more',\n",
              " 'most',\n",
              " 'other',\n",
              " 'some',\n",
              " 'such',\n",
              " 'no',\n",
              " 'nor',\n",
              " 'not',\n",
              " 'only',\n",
              " 'own',\n",
              " 'same',\n",
              " 'so',\n",
              " 'than',\n",
              " 'too',\n",
              " 'very',\n",
              " 's',\n",
              " 't',\n",
              " 'can',\n",
              " 'will',\n",
              " 'just',\n",
              " 'don',\n",
              " \"don't\",\n",
              " 'should',\n",
              " \"should've\",\n",
              " 'now',\n",
              " 'd',\n",
              " 'll',\n",
              " 'm',\n",
              " 'o',\n",
              " 're',\n",
              " 've',\n",
              " 'y',\n",
              " 'ain',\n",
              " 'aren',\n",
              " \"aren't\",\n",
              " 'couldn',\n",
              " \"couldn't\",\n",
              " 'didn',\n",
              " \"didn't\",\n",
              " 'doesn',\n",
              " \"doesn't\",\n",
              " 'hadn',\n",
              " \"hadn't\",\n",
              " 'hasn',\n",
              " \"hasn't\",\n",
              " 'haven',\n",
              " \"haven't\",\n",
              " 'isn',\n",
              " \"isn't\",\n",
              " 'ma',\n",
              " 'mightn',\n",
              " \"mightn't\",\n",
              " 'mustn',\n",
              " \"mustn't\",\n",
              " 'needn',\n",
              " \"needn't\",\n",
              " 'shan',\n",
              " \"shan't\",\n",
              " 'shouldn',\n",
              " \"shouldn't\",\n",
              " 'wasn',\n",
              " \"wasn't\",\n",
              " 'weren',\n",
              " \"weren't\",\n",
              " 'won',\n",
              " \"won't\",\n",
              " 'wouldn',\n",
              " \"wouldn't\"]"
            ]
          },
          "metadata": {},
          "execution_count": 18
        }
      ]
    },
    {
      "cell_type": "code",
      "source": [
        "## stemming\n",
        "for i in corpus:\n",
        "  words=nltk.word_tokenize(i)\n",
        "  for word in words:\n",
        "    if word not in set(stopwords.words('english')):\n",
        "      print(stemmer.stem(word))"
      ],
      "metadata": {
        "id": "-Fdt_2hL11RQ",
        "outputId": "d94a7a33-d578-48bd-a040-4949367d0bc7",
        "colab": {
          "base_uri": "https://localhost:8080/"
        }
      },
      "execution_count": 19,
      "outputs": [
        {
          "output_type": "stream",
          "name": "stdout",
          "text": [
            "narendra\n",
            "damodarda\n",
            "modi\n",
            "gujarati\n",
            "n\n",
            "end\n",
            "mod\n",
            "modi\n",
            "born\n",
            "septemb\n",
            "b\n",
            "indian\n",
            "politician\n",
            "serv\n",
            "th\n",
            "prime\n",
            "minist\n",
            "india\n",
            "sinc\n",
            "may\n",
            "modi\n",
            "chief\n",
            "minist\n",
            "gujarat\n",
            "member\n",
            "parliament\n",
            "mp\n",
            "varanasi\n",
            "member\n",
            "bharatiya\n",
            "janata\n",
            "parti\n",
            "bjp\n",
            "rashtriya\n",
            "swayamsevak\n",
            "sangh\n",
            "rss\n",
            "right\n",
            "wing\n",
            "hindu\n",
            "nationalist\n",
            "paramilitari\n",
            "volunt\n",
            "organis\n",
            "longest\n",
            "serv\n",
            "prime\n",
            "minist\n",
            "outsid\n",
            "indian\n",
            "nation\n",
            "congress\n",
            "modi\n",
            "born\n",
            "rais\n",
            "vadnagar\n",
            "northeastern\n",
            "gujarat\n",
            "complet\n",
            "secondari\n",
            "educ\n",
            "introduc\n",
            "rss\n",
            "age\n",
            "eight\n",
            "account\n",
            "help\n",
            "father\n",
            "sell\n",
            "tea\n",
            "vadnagar\n",
            "railway\n",
            "station\n",
            "reliabl\n",
            "corrobor\n",
            "age\n",
            "marri\n",
            "jashodaben\n",
            "modi\n",
            "abandon\n",
            "soon\n",
            "publicli\n",
            "acknowledg\n",
            "four\n",
            "decad\n",
            "later\n",
            "legal\n",
            "requir\n",
            "modi\n",
            "becam\n",
            "full\n",
            "time\n",
            "worker\n",
            "rss\n",
            "gujarat\n",
            "rss\n",
            "assign\n",
            "bjp\n",
            "held\n",
            "sever\n",
            "posit\n",
            "within\n",
            "parti\n",
            "hierarchi\n",
            "rise\n",
            "rank\n",
            "gener\n",
            "secretari\n",
            "c\n"
          ]
        }
      ]
    },
    {
      "cell_type": "markdown",
      "source": [
        "# Lemmatization"
      ],
      "metadata": {
        "id": "EJftL0DusnhF"
      }
    },
    {
      "cell_type": "code",
      "source": [
        "## Lemmatization\n",
        "for i in corpus:\n",
        "  words=nltk.word_tokenize(i)\n",
        "  for word in words:\n",
        "    if word not in set(stopwords.words('english')):\n",
        "      print(lemmatizer.lemmatize(word))"
      ],
      "metadata": {
        "id": "uFoOQLB82zyZ",
        "outputId": "222117e5-8d2b-4800-dd89-56f5b5b2860b",
        "colab": {
          "base_uri": "https://localhost:8080/"
        }
      },
      "execution_count": 20,
      "outputs": [
        {
          "output_type": "stream",
          "name": "stdout",
          "text": [
            "narendra\n",
            "damodardas\n",
            "modi\n",
            "gujarati\n",
            "n\n",
            "end\n",
            "mod\n",
            "modi\n",
            "born\n",
            "september\n",
            "b\n",
            "indian\n",
            "politician\n",
            "served\n",
            "th\n",
            "prime\n",
            "minister\n",
            "india\n",
            "since\n",
            "may\n",
            "modi\n",
            "chief\n",
            "minister\n",
            "gujarat\n",
            "member\n",
            "parliament\n",
            "mp\n",
            "varanasi\n",
            "member\n",
            "bharatiya\n",
            "janata\n",
            "party\n",
            "bjp\n",
            "rashtriya\n",
            "swayamsevak\n",
            "sangh\n",
            "r\n",
            "right\n",
            "wing\n",
            "hindu\n",
            "nationalist\n",
            "paramilitary\n",
            "volunteer\n",
            "organisation\n",
            "longest\n",
            "serving\n",
            "prime\n",
            "minister\n",
            "outside\n",
            "indian\n",
            "national\n",
            "congress\n",
            "modi\n",
            "born\n",
            "raised\n",
            "vadnagar\n",
            "northeastern\n",
            "gujarat\n",
            "completed\n",
            "secondary\n",
            "education\n",
            "introduced\n",
            "r\n",
            "age\n",
            "eight\n",
            "account\n",
            "helping\n",
            "father\n",
            "sell\n",
            "tea\n",
            "vadnagar\n",
            "railway\n",
            "station\n",
            "reliably\n",
            "corroborated\n",
            "age\n",
            "married\n",
            "jashodaben\n",
            "modi\n",
            "abandoned\n",
            "soon\n",
            "publicly\n",
            "acknowledging\n",
            "four\n",
            "decade\n",
            "later\n",
            "legally\n",
            "required\n",
            "modi\n",
            "became\n",
            "full\n",
            "time\n",
            "worker\n",
            "r\n",
            "gujarat\n",
            "r\n",
            "assigned\n",
            "bjp\n",
            "held\n",
            "several\n",
            "position\n",
            "within\n",
            "party\n",
            "hierarchy\n",
            "rising\n",
            "rank\n",
            "general\n",
            "secretary\n",
            "c\n"
          ]
        }
      ]
    },
    {
      "cell_type": "code",
      "source": [
        "## Apply Stopswords Lemmatize\n",
        "import re\n",
        "corpus=[]\n",
        "for i in range(len(sentences)):\n",
        "  review = re.sub('[^a-zA-Z]',' ',sentences[i])\n",
        "  review=review.lower()\n",
        "  review=review.split()\n",
        "  review=[lemmatizer.lemmatize(word) for word in review if not word in set(stopwords.words('english'))]\n",
        "  review=' '.join(review)\n",
        "  corpus.append(review)"
      ],
      "metadata": {
        "id": "_HNSDU6C4QVg"
      },
      "execution_count": 21,
      "outputs": []
    },
    {
      "cell_type": "markdown",
      "source": [
        "#Bag of words"
      ],
      "metadata": {
        "id": "omz3rNzOskKk"
      }
    },
    {
      "cell_type": "code",
      "source": [
        "## Bag of words\n",
        "from sklearn.feature_extraction.text import CountVectorizer\n",
        "cv=CountVectorizer(binary=True)"
      ],
      "metadata": {
        "id": "E8qqusFl2-t4"
      },
      "execution_count": 22,
      "outputs": []
    },
    {
      "cell_type": "code",
      "source": [
        "X=cv.fit_transform(corpus)"
      ],
      "metadata": {
        "id": "_Ex40bb33LM1"
      },
      "execution_count": 23,
      "outputs": []
    },
    {
      "cell_type": "code",
      "source": [
        "cv.vocabulary_"
      ],
      "metadata": {
        "id": "Mf0ntQUC3VSx",
        "outputId": "67a3ff69-24e1-4d1b-ce78-ee2697c78a11",
        "colab": {
          "base_uri": "https://localhost:8080/"
        }
      },
      "execution_count": 24,
      "outputs": [
        {
          "output_type": "execute_result",
          "data": {
            "text/plain": [
              "{'narendra': 43,\n",
              " 'damodardas': 13,\n",
              " 'modi': 41,\n",
              " 'gujarati': 23,\n",
              " 'end': 17,\n",
              " 'mod': 40,\n",
              " 'born': 8,\n",
              " 'september': 68,\n",
              " 'indian': 29,\n",
              " 'politician': 52,\n",
              " 'served': 69,\n",
              " 'th': 77,\n",
              " 'prime': 54,\n",
              " 'minister': 39,\n",
              " 'india': 28,\n",
              " 'since': 72,\n",
              " 'may': 37,\n",
              " 'chief': 9,\n",
              " 'gujarat': 22,\n",
              " 'member': 38,\n",
              " 'parliament': 50,\n",
              " 'mp': 42,\n",
              " 'varanasi': 80,\n",
              " 'bharatiya': 6,\n",
              " 'janata': 31,\n",
              " 'party': 51,\n",
              " 'bjp': 7,\n",
              " 'rashtriya': 59,\n",
              " 'swayamsevak': 75,\n",
              " 'sangh': 64,\n",
              " 'right': 62,\n",
              " 'wing': 82,\n",
              " 'hindu': 27,\n",
              " 'nationalist': 45,\n",
              " 'paramilitary': 49,\n",
              " 'volunteer': 81,\n",
              " 'organisation': 47,\n",
              " 'longest': 35,\n",
              " 'serving': 70,\n",
              " 'outside': 48,\n",
              " 'national': 44,\n",
              " 'congress': 11,\n",
              " 'raised': 57,\n",
              " 'vadnagar': 79,\n",
              " 'northeastern': 46,\n",
              " 'completed': 10,\n",
              " 'secondary': 65,\n",
              " 'education': 15,\n",
              " 'introduced': 30,\n",
              " 'age': 3,\n",
              " 'eight': 16,\n",
              " 'account': 1,\n",
              " 'helping': 25,\n",
              " 'father': 18,\n",
              " 'sell': 67,\n",
              " 'tea': 76,\n",
              " 'railway': 56,\n",
              " 'station': 74,\n",
              " 'reliably': 60,\n",
              " 'corroborated': 12,\n",
              " 'married': 36,\n",
              " 'jashodaben': 32,\n",
              " 'abandoned': 0,\n",
              " 'soon': 73,\n",
              " 'publicly': 55,\n",
              " 'acknowledging': 2,\n",
              " 'four': 19,\n",
              " 'decade': 14,\n",
              " 'later': 33,\n",
              " 'legally': 34,\n",
              " 'required': 61,\n",
              " 'became': 5,\n",
              " 'full': 20,\n",
              " 'time': 78,\n",
              " 'worker': 84,\n",
              " 'assigned': 4,\n",
              " 'held': 24,\n",
              " 'several': 71,\n",
              " 'position': 53,\n",
              " 'within': 83,\n",
              " 'hierarchy': 26,\n",
              " 'rising': 63,\n",
              " 'rank': 58,\n",
              " 'general': 21,\n",
              " 'secretary': 66}"
            ]
          },
          "metadata": {},
          "execution_count": 24
        }
      ]
    },
    {
      "cell_type": "code",
      "source": [
        "cv.fixed_vocabulary_"
      ],
      "metadata": {
        "id": "LtiTkTBR3W2U",
        "outputId": "7b016702-556c-418c-dda1-d65c9a680973",
        "colab": {
          "base_uri": "https://localhost:8080/"
        }
      },
      "execution_count": 25,
      "outputs": [
        {
          "output_type": "execute_result",
          "data": {
            "text/plain": [
              "False"
            ]
          },
          "metadata": {},
          "execution_count": 25
        }
      ]
    },
    {
      "cell_type": "code",
      "source": [
        "corpus[0]"
      ],
      "metadata": {
        "id": "5sw4nEvw3eyJ",
        "outputId": "0d1f0f32-55f3-4157-ac69-53cea5a8e19a",
        "colab": {
          "base_uri": "https://localhost:8080/",
          "height": 35
        }
      },
      "execution_count": 26,
      "outputs": [
        {
          "output_type": "execute_result",
          "data": {
            "text/plain": [
              "'narendra damodardas modi gujarati n end mod modi born september b indian politician served th prime minister india since may'"
            ],
            "application/vnd.google.colaboratory.intrinsic+json": {
              "type": "string"
            }
          },
          "metadata": {},
          "execution_count": 26
        }
      ]
    },
    {
      "cell_type": "code",
      "source": [
        "X[0].toarray()"
      ],
      "metadata": {
        "id": "qNDAFNZ03rCX",
        "outputId": "ec374a7f-44ea-4eee-9d83-0584c35e4a07",
        "colab": {
          "base_uri": "https://localhost:8080/"
        }
      },
      "execution_count": 27,
      "outputs": [
        {
          "output_type": "execute_result",
          "data": {
            "text/plain": [
              "array([[0, 0, 0, 0, 0, 0, 0, 0, 1, 0, 0, 0, 0, 1, 0, 0, 0, 1, 0, 0, 0, 0,\n",
              "        0, 1, 0, 0, 0, 0, 1, 1, 0, 0, 0, 0, 0, 0, 0, 1, 0, 1, 1, 1, 0, 1,\n",
              "        0, 0, 0, 0, 0, 0, 0, 0, 1, 0, 1, 0, 0, 0, 0, 0, 0, 0, 0, 0, 0, 0,\n",
              "        0, 0, 1, 1, 0, 0, 1, 0, 0, 0, 0, 1, 0, 0, 0, 0, 0, 0, 0]])"
            ]
          },
          "metadata": {},
          "execution_count": 27
        }
      ]
    },
    {
      "cell_type": "markdown",
      "source": [
        "# Trigrams"
      ],
      "metadata": {
        "id": "GubaI2smsGxz"
      }
    },
    {
      "cell_type": "code",
      "source": [
        "from sklearn.feature_extraction.text import CountVectorizer\n",
        "cv=CountVectorizer(binary=True,ngram_range=(3,3))"
      ],
      "metadata": {
        "id": "jpNdy2MeliAJ"
      },
      "execution_count": 28,
      "outputs": []
    },
    {
      "cell_type": "code",
      "source": [
        "X=cv.fit_transform(corpus)"
      ],
      "metadata": {
        "id": "biKYJ1hGlh4j"
      },
      "execution_count": 29,
      "outputs": []
    },
    {
      "cell_type": "code",
      "source": [
        "corpus[0]"
      ],
      "metadata": {
        "id": "OTyhgMXhsENU",
        "outputId": "a1ace15d-30c0-4d03-87dc-8f76f9f643d1",
        "colab": {
          "base_uri": "https://localhost:8080/",
          "height": 35
        }
      },
      "execution_count": 30,
      "outputs": [
        {
          "output_type": "execute_result",
          "data": {
            "text/plain": [
              "'narendra damodardas modi gujarati n end mod modi born september b indian politician served th prime minister india since may'"
            ],
            "application/vnd.google.colaboratory.intrinsic+json": {
              "type": "string"
            }
          },
          "metadata": {},
          "execution_count": 30
        }
      ]
    },
    {
      "cell_type": "code",
      "source": [
        "cv.vocabulary_"
      ],
      "metadata": {
        "id": "LTqfBBx7sFQV",
        "outputId": "1ee98841-e5dd-453b-e2dc-a31828659d2a",
        "colab": {
          "base_uri": "https://localhost:8080/"
        }
      },
      "execution_count": 31,
      "outputs": [
        {
          "output_type": "execute_result",
          "data": {
            "text/plain": [
              "{'narendra damodardas modi': 47,\n",
              " 'damodardas modi gujarati': 13,\n",
              " 'modi gujarati end': 46,\n",
              " 'gujarati end mod': 21,\n",
              " 'end mod modi': 15,\n",
              " 'mod modi born': 40,\n",
              " 'modi born september': 44,\n",
              " 'born september indian': 10,\n",
              " 'september indian politician': 68,\n",
              " 'indian politician served': 28,\n",
              " 'politician served th': 55,\n",
              " 'served th prime': 69,\n",
              " 'th prime minister': 76,\n",
              " 'prime minister india': 57,\n",
              " 'minister india since': 38,\n",
              " 'india since may': 26,\n",
              " 'modi chief minister': 45,\n",
              " 'chief minister gujarat': 11,\n",
              " 'minister gujarat member': 37,\n",
              " 'gujarat member parliament': 20,\n",
              " 'member parliament mp': 36,\n",
              " 'parliament mp varanasi': 52,\n",
              " 'member bharatiya janata': 35,\n",
              " 'bharatiya janata party': 6,\n",
              " 'janata party bjp': 30,\n",
              " 'party bjp rashtriya': 53,\n",
              " 'bjp rashtriya swayamsevak': 8,\n",
              " 'rashtriya swayamsevak sangh': 63,\n",
              " 'swayamsevak sangh right': 74,\n",
              " 'sangh right wing': 66,\n",
              " 'right wing hindu': 64,\n",
              " 'wing hindu nationalist': 80,\n",
              " 'hindu nationalist paramilitary': 25,\n",
              " 'nationalist paramilitary volunteer': 48,\n",
              " 'paramilitary volunteer organisation': 51,\n",
              " 'longest serving prime': 33,\n",
              " 'serving prime minister': 70,\n",
              " 'prime minister outside': 58,\n",
              " 'minister outside indian': 39,\n",
              " 'outside indian national': 50,\n",
              " 'indian national congress': 27,\n",
              " 'modi born raised': 43,\n",
              " 'born raised vadnagar': 9,\n",
              " 'raised vadnagar northeastern': 61,\n",
              " 'vadnagar northeastern gujarat': 78,\n",
              " 'northeastern gujarat completed': 49,\n",
              " 'gujarat completed secondary': 19,\n",
              " 'completed secondary education': 12,\n",
              " 'introduced age eight': 29,\n",
              " 'account helping father': 1,\n",
              " 'helping father sell': 23,\n",
              " 'father sell tea': 16,\n",
              " 'sell tea vadnagar': 67,\n",
              " 'tea vadnagar railway': 75,\n",
              " 'vadnagar railway station': 79,\n",
              " 'railway station reliably': 60,\n",
              " 'station reliably corroborated': 73,\n",
              " 'age married jashodaben': 3,\n",
              " 'married jashodaben modi': 34,\n",
              " 'jashodaben modi abandoned': 31,\n",
              " 'modi abandoned soon': 41,\n",
              " 'abandoned soon publicly': 0,\n",
              " 'soon publicly acknowledging': 72,\n",
              " 'publicly acknowledging four': 59,\n",
              " 'acknowledging four decade': 2,\n",
              " 'four decade later': 17,\n",
              " 'decade later legally': 14,\n",
              " 'later legally required': 32,\n",
              " 'modi became full': 42,\n",
              " 'became full time': 5,\n",
              " 'full time worker': 18,\n",
              " 'time worker gujarat': 77,\n",
              " 'assigned bjp held': 4,\n",
              " 'bjp held several': 7,\n",
              " 'held several position': 22,\n",
              " 'several position within': 71,\n",
              " 'position within party': 56,\n",
              " 'within party hierarchy': 81,\n",
              " 'party hierarchy rising': 54,\n",
              " 'hierarchy rising rank': 24,\n",
              " 'rising rank general': 65,\n",
              " 'rank general secretary': 62}"
            ]
          },
          "metadata": {},
          "execution_count": 31
        }
      ]
    },
    {
      "cell_type": "markdown",
      "source": [
        "#Bi Tri Grams"
      ],
      "metadata": {
        "id": "WZVcf0NysUOo"
      }
    },
    {
      "cell_type": "code",
      "source": [
        "from sklearn.feature_extraction.text import CountVectorizer\n",
        "cv=CountVectorizer(binary=True,ngram_range=(2,3))"
      ],
      "metadata": {
        "id": "WZtpr0LnsXPd"
      },
      "execution_count": 32,
      "outputs": []
    },
    {
      "cell_type": "code",
      "source": [
        "X=cv.fit_transform(corpus)"
      ],
      "metadata": {
        "id": "-FBPiUhdscDM"
      },
      "execution_count": 33,
      "outputs": []
    },
    {
      "cell_type": "code",
      "source": [
        "corpus[0]"
      ],
      "metadata": {
        "id": "DsqrPYcQsdAh",
        "outputId": "f47a24f2-7cc5-42af-d5b9-1949355624ff",
        "colab": {
          "base_uri": "https://localhost:8080/",
          "height": 35
        }
      },
      "execution_count": 34,
      "outputs": [
        {
          "output_type": "execute_result",
          "data": {
            "text/plain": [
              "'narendra damodardas modi gujarati n end mod modi born september b indian politician served th prime minister india since may'"
            ],
            "application/vnd.google.colaboratory.intrinsic+json": {
              "type": "string"
            }
          },
          "metadata": {},
          "execution_count": 34
        }
      ]
    },
    {
      "cell_type": "code",
      "source": [
        "cv.vocabulary_"
      ],
      "metadata": {
        "id": "SnUraBDaseBq",
        "outputId": "038130fe-dd2a-4bc9-8b1b-1cf8a2d3268e",
        "colab": {
          "base_uri": "https://localhost:8080/"
        }
      },
      "execution_count": 35,
      "outputs": [
        {
          "output_type": "execute_result",
          "data": {
            "text/plain": [
              "{'narendra damodardas': 97,\n",
              " 'damodardas modi': 27,\n",
              " 'modi gujarati': 94,\n",
              " 'gujarati end': 44,\n",
              " 'end mod': 31,\n",
              " 'mod modi': 83,\n",
              " 'modi born': 89,\n",
              " 'born september': 21,\n",
              " 'september indian': 141,\n",
              " 'indian politician': 58,\n",
              " 'politician served': 114,\n",
              " 'served th': 143,\n",
              " 'th prime': 158,\n",
              " 'prime minister': 118,\n",
              " 'minister india': 79,\n",
              " 'india since': 54,\n",
              " 'since may': 149,\n",
              " 'narendra damodardas modi': 98,\n",
              " 'damodardas modi gujarati': 28,\n",
              " 'modi gujarati end': 95,\n",
              " 'gujarati end mod': 45,\n",
              " 'end mod modi': 32,\n",
              " 'mod modi born': 84,\n",
              " 'modi born september': 91,\n",
              " 'born september indian': 22,\n",
              " 'september indian politician': 142,\n",
              " 'indian politician served': 59,\n",
              " 'politician served th': 115,\n",
              " 'served th prime': 144,\n",
              " 'th prime minister': 159,\n",
              " 'prime minister india': 119,\n",
              " 'minister india since': 80,\n",
              " 'india since may': 55,\n",
              " 'modi chief': 92,\n",
              " 'chief minister': 23,\n",
              " 'minister gujarat': 77,\n",
              " 'gujarat member': 42,\n",
              " 'member parliament': 75,\n",
              " 'parliament mp': 108,\n",
              " 'mp varanasi': 96,\n",
              " 'modi chief minister': 93,\n",
              " 'chief minister gujarat': 24,\n",
              " 'minister gujarat member': 78,\n",
              " 'gujarat member parliament': 43,\n",
              " 'member parliament mp': 76,\n",
              " 'parliament mp varanasi': 109,\n",
              " 'member bharatiya': 73,\n",
              " 'bharatiya janata': 13,\n",
              " 'janata party': 62,\n",
              " 'party bjp': 110,\n",
              " 'bjp rashtriya': 17,\n",
              " 'rashtriya swayamsevak': 129,\n",
              " 'swayamsevak sangh': 154,\n",
              " 'sangh right': 136,\n",
              " 'right wing': 132,\n",
              " 'wing hindu': 167,\n",
              " 'hindu nationalist': 52,\n",
              " 'nationalist paramilitary': 100,\n",
              " 'paramilitary volunteer': 106,\n",
              " 'volunteer organisation': 166,\n",
              " 'member bharatiya janata': 74,\n",
              " 'bharatiya janata party': 14,\n",
              " 'janata party bjp': 63,\n",
              " 'party bjp rashtriya': 111,\n",
              " 'bjp rashtriya swayamsevak': 18,\n",
              " 'rashtriya swayamsevak sangh': 130,\n",
              " 'swayamsevak sangh right': 155,\n",
              " 'sangh right wing': 137,\n",
              " 'right wing hindu': 133,\n",
              " 'wing hindu nationalist': 168,\n",
              " 'hindu nationalist paramilitary': 53,\n",
              " 'nationalist paramilitary volunteer': 101,\n",
              " 'paramilitary volunteer organisation': 107,\n",
              " 'longest serving': 69,\n",
              " 'serving prime': 145,\n",
              " 'minister outside': 81,\n",
              " 'outside indian': 104,\n",
              " 'indian national': 56,\n",
              " 'national congress': 99,\n",
              " 'longest serving prime': 70,\n",
              " 'serving prime minister': 146,\n",
              " 'prime minister outside': 120,\n",
              " 'minister outside indian': 82,\n",
              " 'outside indian national': 105,\n",
              " 'indian national congress': 57,\n",
              " 'born raised': 19,\n",
              " 'raised vadnagar': 125,\n",
              " 'vadnagar northeastern': 162,\n",
              " 'northeastern gujarat': 102,\n",
              " 'gujarat completed': 40,\n",
              " 'completed secondary': 25,\n",
              " 'secondary education': 138,\n",
              " 'modi born raised': 90,\n",
              " 'born raised vadnagar': 20,\n",
              " 'raised vadnagar northeastern': 126,\n",
              " 'vadnagar northeastern gujarat': 163,\n",
              " 'northeastern gujarat completed': 103,\n",
              " 'gujarat completed secondary': 41,\n",
              " 'completed secondary education': 26,\n",
              " 'introduced age': 60,\n",
              " 'age eight': 6,\n",
              " 'introduced age eight': 61,\n",
              " 'account helping': 2,\n",
              " 'helping father': 48,\n",
              " 'father sell': 33,\n",
              " 'sell tea': 139,\n",
              " 'tea vadnagar': 156,\n",
              " 'vadnagar railway': 164,\n",
              " 'railway station': 123,\n",
              " 'station reliably': 152,\n",
              " 'reliably corroborated': 131,\n",
              " 'account helping father': 3,\n",
              " 'helping father sell': 49,\n",
              " 'father sell tea': 34,\n",
              " 'sell tea vadnagar': 140,\n",
              " 'tea vadnagar railway': 157,\n",
              " 'vadnagar railway station': 165,\n",
              " 'railway station reliably': 124,\n",
              " 'station reliably corroborated': 153,\n",
              " 'age married': 7,\n",
              " 'married jashodaben': 71,\n",
              " 'jashodaben modi': 64,\n",
              " 'modi abandoned': 85,\n",
              " 'abandoned soon': 0,\n",
              " 'soon publicly': 150,\n",
              " 'publicly acknowledging': 121,\n",
              " 'acknowledging four': 4,\n",
              " 'four decade': 35,\n",
              " 'decade later': 29,\n",
              " 'later legally': 66,\n",
              " 'legally required': 68,\n",
              " 'age married jashodaben': 8,\n",
              " 'married jashodaben modi': 72,\n",
              " 'jashodaben modi abandoned': 65,\n",
              " 'modi abandoned soon': 86,\n",
              " 'abandoned soon publicly': 1,\n",
              " 'soon publicly acknowledging': 151,\n",
              " 'publicly acknowledging four': 122,\n",
              " 'acknowledging four decade': 5,\n",
              " 'four decade later': 36,\n",
              " 'decade later legally': 30,\n",
              " 'later legally required': 67,\n",
              " 'modi became': 87,\n",
              " 'became full': 11,\n",
              " 'full time': 37,\n",
              " 'time worker': 160,\n",
              " 'worker gujarat': 171,\n",
              " 'modi became full': 88,\n",
              " 'became full time': 12,\n",
              " 'full time worker': 38,\n",
              " 'time worker gujarat': 161,\n",
              " 'assigned bjp': 9,\n",
              " 'bjp held': 15,\n",
              " 'held several': 46,\n",
              " 'several position': 147,\n",
              " 'position within': 116,\n",
              " 'within party': 169,\n",
              " 'party hierarchy': 112,\n",
              " 'hierarchy rising': 50,\n",
              " 'rising rank': 134,\n",
              " 'rank general': 127,\n",
              " 'general secretary': 39,\n",
              " 'assigned bjp held': 10,\n",
              " 'bjp held several': 16,\n",
              " 'held several position': 47,\n",
              " 'several position within': 148,\n",
              " 'position within party': 117,\n",
              " 'within party hierarchy': 170,\n",
              " 'party hierarchy rising': 113,\n",
              " 'hierarchy rising rank': 51,\n",
              " 'rising rank general': 135,\n",
              " 'rank general secretary': 128}"
            ]
          },
          "metadata": {},
          "execution_count": 35
        }
      ]
    },
    {
      "cell_type": "markdown",
      "source": [
        "# TFIDF"
      ],
      "metadata": {
        "id": "uf4vW7xSsqZF"
      }
    },
    {
      "cell_type": "code",
      "source": [
        "from sklearn.feature_extraction.text import TfidfVectorizer\n",
        "cv=TfidfVectorizer()\n",
        "X=cv.fit_transform(corpus)\n",
        "corpus[0]"
      ],
      "metadata": {
        "id": "KIS5YEC-ss3N",
        "outputId": "dfd036ef-51e2-4b53-ee65-8892a9d53b98",
        "colab": {
          "base_uri": "https://localhost:8080/",
          "height": 35
        }
      },
      "execution_count": 37,
      "outputs": [
        {
          "output_type": "execute_result",
          "data": {
            "text/plain": [
              "'narendra damodardas modi gujarati n end mod modi born september b indian politician served th prime minister india since may'"
            ],
            "application/vnd.google.colaboratory.intrinsic+json": {
              "type": "string"
            }
          },
          "metadata": {},
          "execution_count": 37
        }
      ]
    },
    {
      "cell_type": "code",
      "source": [
        "X[0].toarray()"
      ],
      "metadata": {
        "id": "jWH0d6qKs34T",
        "outputId": "bb64a861-ea1c-4a25-b621-fa401cca6fea",
        "colab": {
          "base_uri": "https://localhost:8080/"
        }
      },
      "execution_count": 39,
      "outputs": [
        {
          "output_type": "execute_result",
          "data": {
            "text/plain": [
              "array([[0.        , 0.        , 0.        , 0.        , 0.        ,\n",
              "        0.        , 0.        , 0.        , 0.21218303, 0.        ,\n",
              "        0.        , 0.        , 0.        , 0.24823593, 0.        ,\n",
              "        0.        , 0.        , 0.24823593, 0.        , 0.        ,\n",
              "        0.        , 0.        , 0.        , 0.24823593, 0.        ,\n",
              "        0.        , 0.        , 0.        , 0.24823593, 0.21218303,\n",
              "        0.        , 0.        , 0.        , 0.        , 0.        ,\n",
              "        0.        , 0.        , 0.24823593, 0.        , 0.1866031 ,\n",
              "        0.24823593, 0.30110041, 0.        , 0.24823593, 0.        ,\n",
              "        0.        , 0.        , 0.        , 0.        , 0.        ,\n",
              "        0.        , 0.        , 0.24823593, 0.        , 0.21218303,\n",
              "        0.        , 0.        , 0.        , 0.        , 0.        ,\n",
              "        0.        , 0.        , 0.        , 0.        , 0.        ,\n",
              "        0.        , 0.        , 0.        , 0.24823593, 0.24823593,\n",
              "        0.        , 0.        , 0.24823593, 0.        , 0.        ,\n",
              "        0.        , 0.        , 0.24823593, 0.        , 0.        ,\n",
              "        0.        , 0.        , 0.        , 0.        , 0.        ]])"
            ]
          },
          "metadata": {},
          "execution_count": 39
        }
      ]
    },
    {
      "cell_type": "code",
      "source": [
        "cv.vocabulary_"
      ],
      "metadata": {
        "id": "Jjf8Mz5Ds-G1",
        "outputId": "0d50d527-796c-47c4-8d31-f2482ec9fa83",
        "colab": {
          "base_uri": "https://localhost:8080/"
        }
      },
      "execution_count": 40,
      "outputs": [
        {
          "output_type": "execute_result",
          "data": {
            "text/plain": [
              "{'narendra': 43,\n",
              " 'damodardas': 13,\n",
              " 'modi': 41,\n",
              " 'gujarati': 23,\n",
              " 'end': 17,\n",
              " 'mod': 40,\n",
              " 'born': 8,\n",
              " 'september': 68,\n",
              " 'indian': 29,\n",
              " 'politician': 52,\n",
              " 'served': 69,\n",
              " 'th': 77,\n",
              " 'prime': 54,\n",
              " 'minister': 39,\n",
              " 'india': 28,\n",
              " 'since': 72,\n",
              " 'may': 37,\n",
              " 'chief': 9,\n",
              " 'gujarat': 22,\n",
              " 'member': 38,\n",
              " 'parliament': 50,\n",
              " 'mp': 42,\n",
              " 'varanasi': 80,\n",
              " 'bharatiya': 6,\n",
              " 'janata': 31,\n",
              " 'party': 51,\n",
              " 'bjp': 7,\n",
              " 'rashtriya': 59,\n",
              " 'swayamsevak': 75,\n",
              " 'sangh': 64,\n",
              " 'right': 62,\n",
              " 'wing': 82,\n",
              " 'hindu': 27,\n",
              " 'nationalist': 45,\n",
              " 'paramilitary': 49,\n",
              " 'volunteer': 81,\n",
              " 'organisation': 47,\n",
              " 'longest': 35,\n",
              " 'serving': 70,\n",
              " 'outside': 48,\n",
              " 'national': 44,\n",
              " 'congress': 11,\n",
              " 'raised': 57,\n",
              " 'vadnagar': 79,\n",
              " 'northeastern': 46,\n",
              " 'completed': 10,\n",
              " 'secondary': 65,\n",
              " 'education': 15,\n",
              " 'introduced': 30,\n",
              " 'age': 3,\n",
              " 'eight': 16,\n",
              " 'account': 1,\n",
              " 'helping': 25,\n",
              " 'father': 18,\n",
              " 'sell': 67,\n",
              " 'tea': 76,\n",
              " 'railway': 56,\n",
              " 'station': 74,\n",
              " 'reliably': 60,\n",
              " 'corroborated': 12,\n",
              " 'married': 36,\n",
              " 'jashodaben': 32,\n",
              " 'abandoned': 0,\n",
              " 'soon': 73,\n",
              " 'publicly': 55,\n",
              " 'acknowledging': 2,\n",
              " 'four': 19,\n",
              " 'decade': 14,\n",
              " 'later': 33,\n",
              " 'legally': 34,\n",
              " 'required': 61,\n",
              " 'became': 5,\n",
              " 'full': 20,\n",
              " 'time': 78,\n",
              " 'worker': 84,\n",
              " 'assigned': 4,\n",
              " 'held': 24,\n",
              " 'several': 71,\n",
              " 'position': 53,\n",
              " 'within': 83,\n",
              " 'hierarchy': 26,\n",
              " 'rising': 63,\n",
              " 'rank': 58,\n",
              " 'general': 21,\n",
              " 'secretary': 66}"
            ]
          },
          "metadata": {},
          "execution_count": 40
        }
      ]
    },
    {
      "cell_type": "code",
      "source": [],
      "metadata": {
        "id": "6X_dSztitDxN"
      },
      "execution_count": null,
      "outputs": []
    },
    {
      "cell_type": "code",
      "source": [],
      "metadata": {
        "id": "WzW6Vi2Wt3Ow"
      },
      "execution_count": null,
      "outputs": []
    }
  ]
}